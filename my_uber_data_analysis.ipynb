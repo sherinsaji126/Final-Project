{
 "cells": [
  {
   "cell_type": "markdown",
   "id": "8e322d4a-e8cf-4d84-9677-369243945e58",
   "metadata": {},
   "source": [
    "## Uber Data Analysis\n",
    "***\n",
    "\n",
    "- Defining the problem statement\n",
    "\n",
    "\n",
    "- Collecting the data\n",
    "    * Kaggle\n",
    "    \n",
    "    \n",
    "- Exploratory data analysis\n",
    "\n",
    "\n",
    "- Feature engineering\n",
    "\n",
    "\n",
    "- Modelling\n",
    "\n",
    "\n",
    "- Testing"
   ]
  },
  {
   "cell_type": "markdown",
   "id": "b9f0155f-539e-4352-affd-a3378b2068c8",
   "metadata": {},
   "source": [
    "## 1. Defining The Problem\n",
    "\n",
    "***\n",
    "\n",
    "In this project, we study the data of Uber which is present in tabular format in which we use different libraries like numpy, pandas and matplotlib and different machine learning algorithms. \n",
    "\n",
    "We study different columns of the table and try to co-relate them with others and find a relation between those two. \n",
    "\n",
    "We try to find and analyze those key factors like date, month etc which helps Uber Company to enhance their business by focusing on those services and make required changes. "
   ]
  },
  {
   "cell_type": "code",
   "execution_count": 5,
   "id": "267bd789-840c-4e83-bd5f-6992c357b72d",
   "metadata": {},
   "outputs": [
    {
     "data": {
      "image/jpeg": "[encoded data removed]",
      "text/plain": [
       "<IPython.core.display.Image object>"
      ]
     },
     "metadata": {},
     "output_type": "display_data"
    }
   ],
   "source": [
    "from PIL import Image as PILImage\n",
    "from IPython.display import display,Image\n",
    "\n",
    "img = PILImage.open(r\"C:\\Users\\dell\\OneDrive\\Desktop\\Project MCA\\Uber_image.jpg\")\n",
    "img=img.resize((300,200))\n",
    "edited_image_path=r\"C:\\Users\\dell\\OneDrive\\Desktop\\Project MCA\\edited_image.jpg\"\n",
    "img.save(edited_image_path)\n",
    "display(Image(filename=edited_image_path))"
   ]
  },
  {
   "cell_type": "markdown",
   "id": "20d23ca0-dd40-4a72-a87c-7747e15bca23",
   "metadata": {},
   "source": [
    "## 2. Collecting the Data\n",
    "\n",
    "***"
   ]
  },
  {
   "cell_type": "code",
   "execution_count": 7,
   "id": "869abfe8-1275-4270-b7ef-281b4cdf0a5d",
   "metadata": {},
   "outputs": [],
   "source": [
    "import pandas as pd \n",
    "uber_dataset=pd.read_csv(r\"C:\\Users\\dell\\OneDrive\\Desktop\\Project MCA\\my_uber_dataset.csv\",index_col=0)"
   ]
  },
  {
   "cell_type": "markdown",
   "id": "e03b9ddf-d918-4b9f-82fc-852d977ce294",
   "metadata": {},
   "source": [
    "## 3. Expolatory Data Analysis\n",
    "\n",
    "***\n",
    "\n",
    "Exploratory Data Analysis refers to the critical process of performing initial investigations on data so as to discover patterns,to spot anomalies,to test hypothesis and to check assumptions with the help of summary statistics and graphical representations.\r\n",
    "\r\n",
    "It is a good practice to understand the data first and try to gather as many insights from it.\r\n",
    "\r\n",
    "EDA is all about making sense of data in hand."
   ]
  },
  {
   "cell_type": "code",
   "execution_count": 9,
   "id": "3701d8e9-e2ca-4977-a757-14c969763afe",
   "metadata": {},
   "outputs": [
    {
     "data": {
      "text/plain": [
       "(322844, 57)"
      ]
     },
     "execution_count": 9,
     "metadata": {},
     "output_type": "execute_result"
    }
   ],
   "source": [
    "uber_dataset.shape"
   ]
  },
  {
   "cell_type": "code",
   "execution_count": 10,
   "id": "e33c4470-0bd5-42f3-95b7-6738a223c20f",
   "metadata": {},
   "outputs": [
    {
     "data": {
      "text/html": [
       "<div>\n",
       "<style scoped>\n",
       "    .dataframe tbody tr th:only-of-type {\n",
       "        vertical-align: middle;\n",
       "    }\n",
       "\n",
       "    .dataframe tbody tr th {\n",
       "        vertical-align: top;\n",
       "    }\n",
       "\n",
       "    .dataframe thead th {\n",
       "        text-align: right;\n",
       "    }\n",
       "</style>\n",
       "<table border=\"1\" class=\"dataframe\">\n",
       "  <thead>\n",
       "    <tr style=\"text-align: right;\">\n",
       "      <th></th>\n",
       "      <th>id</th>\n",
       "      <th>timestamp</th>\n",
       "      <th>hour</th>\n",
       "      <th>day</th>\n",
       "      <th>month</th>\n",
       "      <th>datetime</th>\n",
       "      <th>timezone</th>\n",
       "      <th>source</th>\n",
       "      <th>destination</th>\n",
       "      <th>cab_type</th>\n",
       "      <th>...</th>\n",
       "      <th>precipIntensityMax</th>\n",
       "      <th>uvIndexTime</th>\n",
       "      <th>temperatureMin</th>\n",
       "      <th>temperatureMinTime</th>\n",
       "      <th>temperatureMax</th>\n",
       "      <th>temperatureMaxTime</th>\n",
       "      <th>apparentTemperatureMin</th>\n",
       "      <th>apparentTemperatureMinTime</th>\n",
       "      <th>apparentTemperatureMax</th>\n",
       "      <th>apparentTemperatureMaxTime</th>\n",
       "    </tr>\n",
       "  </thead>\n",
       "  <tbody>\n",
       "    <tr>\n",
       "      <th>0</th>\n",
       "      <td>424553bb-7174-41ea-aeb4-fe06d4f4b9d7</td>\n",
       "      <td>1.544953e+09</td>\n",
       "      <td>9</td>\n",
       "      <td>16</td>\n",
       "      <td>12</td>\n",
       "      <td>2018-12-16 09:30:07</td>\n",
       "      <td>America/New_York</td>\n",
       "      <td>Haymarket Square</td>\n",
       "      <td>North Station</td>\n",
       "      <td>Lyft</td>\n",
       "      <td>...</td>\n",
       "      <td>0.1276</td>\n",
       "      <td>1544979600</td>\n",
       "      <td>39.89</td>\n",
       "      <td>1545012000</td>\n",
       "      <td>43.68</td>\n",
       "      <td>1544968800</td>\n",
       "      <td>33.73</td>\n",
       "      <td>1545012000</td>\n",
       "      <td>38.07</td>\n",
       "      <td>1544958000</td>\n",
       "    </tr>\n",
       "    <tr>\n",
       "      <th>1</th>\n",
       "      <td>4bd23055-6827-41c6-b23b-3c491f24e74d</td>\n",
       "      <td>1.543284e+09</td>\n",
       "      <td>2</td>\n",
       "      <td>27</td>\n",
       "      <td>11</td>\n",
       "      <td>2018-11-27 02:00:23</td>\n",
       "      <td>America/New_York</td>\n",
       "      <td>Haymarket Square</td>\n",
       "      <td>North Station</td>\n",
       "      <td>Lyft</td>\n",
       "      <td>...</td>\n",
       "      <td>0.1300</td>\n",
       "      <td>1543251600</td>\n",
       "      <td>40.49</td>\n",
       "      <td>1543233600</td>\n",
       "      <td>47.30</td>\n",
       "      <td>1543251600</td>\n",
       "      <td>36.20</td>\n",
       "      <td>1543291200</td>\n",
       "      <td>43.92</td>\n",
       "      <td>1543251600</td>\n",
       "    </tr>\n",
       "    <tr>\n",
       "      <th>8</th>\n",
       "      <td>4f9fee41-fde3-4767-bbf1-a00e108701fb</td>\n",
       "      <td>1.543818e+09</td>\n",
       "      <td>6</td>\n",
       "      <td>3</td>\n",
       "      <td>12</td>\n",
       "      <td>2018-12-03 06:28:02</td>\n",
       "      <td>America/New_York</td>\n",
       "      <td>Back Bay</td>\n",
       "      <td>Northeastern University</td>\n",
       "      <td>Lyft</td>\n",
       "      <td>...</td>\n",
       "      <td>0.0004</td>\n",
       "      <td>1543852800</td>\n",
       "      <td>43.09</td>\n",
       "      <td>1543896000</td>\n",
       "      <td>57.02</td>\n",
       "      <td>1543852800</td>\n",
       "      <td>39.90</td>\n",
       "      <td>1543896000</td>\n",
       "      <td>56.35</td>\n",
       "      <td>1543852800</td>\n",
       "    </tr>\n",
       "    <tr>\n",
       "      <th>10</th>\n",
       "      <td>9043bf77-1d45-4a93-9520-a083e0277f16</td>\n",
       "      <td>1.543594e+09</td>\n",
       "      <td>16</td>\n",
       "      <td>30</td>\n",
       "      <td>11</td>\n",
       "      <td>2018-11-30 16:13:03</td>\n",
       "      <td>America/New_York</td>\n",
       "      <td>Back Bay</td>\n",
       "      <td>Northeastern University</td>\n",
       "      <td>Lyft</td>\n",
       "      <td>...</td>\n",
       "      <td>0.0004</td>\n",
       "      <td>1543593600</td>\n",
       "      <td>28.64</td>\n",
       "      <td>1543579200</td>\n",
       "      <td>42.32</td>\n",
       "      <td>1543600800</td>\n",
       "      <td>29.29</td>\n",
       "      <td>1543579200</td>\n",
       "      <td>40.48</td>\n",
       "      <td>1543611600</td>\n",
       "    </tr>\n",
       "    <tr>\n",
       "      <th>14</th>\n",
       "      <td>357559cb-8c58-4278-a41a-e33b2e0997a3</td>\n",
       "      <td>1.544729e+09</td>\n",
       "      <td>19</td>\n",
       "      <td>13</td>\n",
       "      <td>12</td>\n",
       "      <td>2018-12-13 19:15:03</td>\n",
       "      <td>America/New_York</td>\n",
       "      <td>North End</td>\n",
       "      <td>West End</td>\n",
       "      <td>Uber</td>\n",
       "      <td>...</td>\n",
       "      <td>0.0001</td>\n",
       "      <td>1544716800</td>\n",
       "      <td>18.29</td>\n",
       "      <td>1544688000</td>\n",
       "      <td>33.83</td>\n",
       "      <td>1544731200</td>\n",
       "      <td>13.79</td>\n",
       "      <td>1544688000</td>\n",
       "      <td>32.85</td>\n",
       "      <td>1544734800</td>\n",
       "    </tr>\n",
       "  </tbody>\n",
       "</table>\n",
       "<p>5 rows × 57 columns</p>\n",
       "</div>"
      ],
      "text/plain": [
       "                                      id     timestamp  hour  day  month  \\\n",
       "0   424553bb-7174-41ea-aeb4-fe06d4f4b9d7  1.544953e+09     9   16     12   \n",
       "1   4bd23055-6827-41c6-b23b-3c491f24e74d  1.543284e+09     2   27     11   \n",
       "8   4f9fee41-fde3-4767-bbf1-a00e108701fb  1.543818e+09     6    3     12   \n",
       "10  9043bf77-1d45-4a93-9520-a083e0277f16  1.543594e+09    16   30     11   \n",
       "14  357559cb-8c58-4278-a41a-e33b2e0997a3  1.544729e+09    19   13     12   \n",
       "\n",
       "               datetime          timezone            source  \\\n",
       "0   2018-12-16 09:30:07  America/New_York  Haymarket Square   \n",
       "1   2018-11-27 02:00:23  America/New_York  Haymarket Square   \n",
       "8   2018-12-03 06:28:02  America/New_York          Back Bay   \n",
       "10  2018-11-30 16:13:03  America/New_York          Back Bay   \n",
       "14  2018-12-13 19:15:03  America/New_York         North End   \n",
       "\n",
       "                destination cab_type  ... precipIntensityMax uvIndexTime  \\\n",
       "0             North Station     Lyft  ...             0.1276  1544979600   \n",
       "1             North Station     Lyft  ...             0.1300  1543251600   \n",
       "8   Northeastern University     Lyft  ...             0.0004  1543852800   \n",
       "10  Northeastern University     Lyft  ...             0.0004  1543593600   \n",
       "14                 West End     Uber  ...             0.0001  1544716800   \n",
       "\n",
       "    temperatureMin  temperatureMinTime  temperatureMax  temperatureMaxTime  \\\n",
       "0            39.89          1545012000           43.68          1544968800   \n",
       "1            40.49          1543233600           47.30          1543251600   \n",
       "8            43.09          1543896000           57.02          1543852800   \n",
       "10           28.64          1543579200           42.32          1543600800   \n",
       "14           18.29          1544688000           33.83          1544731200   \n",
       "\n",
       "    apparentTemperatureMin  apparentTemperatureMinTime  \\\n",
       "0                    33.73                  1545012000   \n",
       "1                    36.20                  1543291200   \n",
       "8                    39.90                  1543896000   \n",
       "10                   29.29                  1543579200   \n",
       "14                   13.79                  1544688000   \n",
       "\n",
       "    apparentTemperatureMax apparentTemperatureMaxTime  \n",
       "0                    38.07                 1544958000  \n",
       "1                    43.92                 1543251600  \n",
       "8                    56.35                 1543852800  \n",
       "10                   40.48                 1543611600  \n",
       "14                   32.85                 1544734800  \n",
       "\n",
       "[5 rows x 57 columns]"
      ]
     },
     "execution_count": 10,
     "metadata": {},
     "output_type": "execute_result"
    }
   ],
   "source": [
    "uber_dataset.head()"
   ]
  },
  {
   "cell_type": "code",
   "execution_count": 11,
   "id": "b2327e08-be96-41c0-bf4b-7bb0ff2ce613",
   "metadata": {},
   "outputs": [
    {
     "name": "stdout",
     "output_type": "stream",
     "text": [
      "<class 'pandas.core.frame.DataFrame'>\n",
      "Index: 322844 entries, 0 to 693070\n",
      "Data columns (total 57 columns):\n",
      " #   Column                       Non-Null Count   Dtype  \n",
      "---  ------                       --------------   -----  \n",
      " 0   id                           322844 non-null  object \n",
      " 1   timestamp                    322844 non-null  float64\n",
      " 2   hour                         322844 non-null  int64  \n",
      " 3   day                          322844 non-null  int64  \n",
      " 4   month                        322844 non-null  int64  \n",
      " 5   datetime                     322844 non-null  object \n",
      " 6   timezone                     322844 non-null  object \n",
      " 7   source                       322844 non-null  object \n",
      " 8   destination                  322844 non-null  object \n",
      " 9   cab_type                     322844 non-null  object \n",
      " 10  product_id                   322844 non-null  object \n",
      " 11  name                         322844 non-null  object \n",
      " 12  price                        267749 non-null  float64\n",
      " 13  distance                     322844 non-null  float64\n",
      " 14  surge_multiplier             322844 non-null  float64\n",
      " 15  latitude                     322844 non-null  float64\n",
      " 16  longitude                    322844 non-null  float64\n",
      " 17  temperature                  322844 non-null  float64\n",
      " 18  apparentTemperature          322844 non-null  float64\n",
      " 19  short_summary                322844 non-null  object \n",
      " 20  long_summary                 322844 non-null  object \n",
      " 21  precipIntensity              322844 non-null  float64\n",
      " 22  precipProbability            322844 non-null  float64\n",
      " 23  humidity                     322844 non-null  float64\n",
      " 24  windSpeed                    322844 non-null  float64\n",
      " 25  windGust                     322844 non-null  float64\n",
      " 26  windGustTime                 322844 non-null  int64  \n",
      " 27  visibility                   322844 non-null  float64\n",
      " 28  temperatureHigh              322844 non-null  float64\n",
      " 29  temperatureHighTime          322844 non-null  int64  \n",
      " 30  temperatureLow               322844 non-null  float64\n",
      " 31  temperatureLowTime           322844 non-null  int64  \n",
      " 32  apparentTemperatureHigh      322844 non-null  float64\n",
      " 33  apparentTemperatureHighTime  322844 non-null  int64  \n",
      " 34  apparentTemperatureLow       322844 non-null  float64\n",
      " 35  apparentTemperatureLowTime   322844 non-null  int64  \n",
      " 36  icon                         322844 non-null  object \n",
      " 37  dewPoint                     322844 non-null  float64\n",
      " 38  pressure                     322844 non-null  float64\n",
      " 39  windBearing                  322844 non-null  int64  \n",
      " 40  cloudCover                   322844 non-null  float64\n",
      " 41  uvIndex                      322844 non-null  int64  \n",
      " 42  visibility.1                 322844 non-null  float64\n",
      " 43  ozone                        322844 non-null  float64\n",
      " 44  sunriseTime                  322844 non-null  int64  \n",
      " 45  sunsetTime                   322844 non-null  int64  \n",
      " 46  moonPhase                    322844 non-null  float64\n",
      " 47  precipIntensityMax           322844 non-null  float64\n",
      " 48  uvIndexTime                  322844 non-null  int64  \n",
      " 49  temperatureMin               322844 non-null  float64\n",
      " 50  temperatureMinTime           322844 non-null  int64  \n",
      " 51  temperatureMax               322844 non-null  float64\n",
      " 52  temperatureMaxTime           322844 non-null  int64  \n",
      " 53  apparentTemperatureMin       322844 non-null  float64\n",
      " 54  apparentTemperatureMinTime   322844 non-null  int64  \n",
      " 55  apparentTemperatureMax       322844 non-null  float64\n",
      " 56  apparentTemperatureMaxTime   322844 non-null  int64  \n",
      "dtypes: float64(29), int64(17), object(11)\n",
      "memory usage: 142.9+ MB\n"
     ]
    }
   ],
   "source": [
    "uber_dataset.info()"
   ]
  },
  {
   "cell_type": "code",
   "execution_count": 12,
   "id": "2f360250-dccb-4b2e-a866-6e1437f402cb",
   "metadata": {},
   "outputs": [],
   "source": [
    "del uber_dataset[\"cab_type\"]"
   ]
  },
  {
   "cell_type": "code",
   "execution_count": 13,
   "id": "cb7a04f8-621c-41d8-b836-be9f3ab6ba6c",
   "metadata": {},
   "outputs": [
    {
     "data": {
      "text/html": [
       "<div>\n",
       "<style scoped>\n",
       "    .dataframe tbody tr th:only-of-type {\n",
       "        vertical-align: middle;\n",
       "    }\n",
       "\n",
       "    .dataframe tbody tr th {\n",
       "        vertical-align: top;\n",
       "    }\n",
       "\n",
       "    .dataframe thead th {\n",
       "        text-align: right;\n",
       "    }\n",
       "</style>\n",
       "<table border=\"1\" class=\"dataframe\">\n",
       "  <thead>\n",
       "    <tr style=\"text-align: right;\">\n",
       "      <th></th>\n",
       "      <th>timestamp</th>\n",
       "      <th>hour</th>\n",
       "      <th>day</th>\n",
       "      <th>month</th>\n",
       "      <th>price</th>\n",
       "      <th>distance</th>\n",
       "      <th>surge_multiplier</th>\n",
       "      <th>latitude</th>\n",
       "      <th>longitude</th>\n",
       "      <th>temperature</th>\n",
       "      <th>...</th>\n",
       "      <th>precipIntensityMax</th>\n",
       "      <th>uvIndexTime</th>\n",
       "      <th>temperatureMin</th>\n",
       "      <th>temperatureMinTime</th>\n",
       "      <th>temperatureMax</th>\n",
       "      <th>temperatureMaxTime</th>\n",
       "      <th>apparentTemperatureMin</th>\n",
       "      <th>apparentTemperatureMinTime</th>\n",
       "      <th>apparentTemperatureMax</th>\n",
       "      <th>apparentTemperatureMaxTime</th>\n",
       "    </tr>\n",
       "  </thead>\n",
       "  <tbody>\n",
       "    <tr>\n",
       "      <th>count</th>\n",
       "      <td>3.228440e+05</td>\n",
       "      <td>322844.000000</td>\n",
       "      <td>322844.000000</td>\n",
       "      <td>322844.000000</td>\n",
       "      <td>267749.000000</td>\n",
       "      <td>322844.000000</td>\n",
       "      <td>322844.000000</td>\n",
       "      <td>322844.000000</td>\n",
       "      <td>322844.000000</td>\n",
       "      <td>322844.000000</td>\n",
       "      <td>...</td>\n",
       "      <td>322844.000000</td>\n",
       "      <td>3.228440e+05</td>\n",
       "      <td>322844.000000</td>\n",
       "      <td>3.228440e+05</td>\n",
       "      <td>322844.000000</td>\n",
       "      <td>3.228440e+05</td>\n",
       "      <td>322844.000000</td>\n",
       "      <td>3.228440e+05</td>\n",
       "      <td>322844.000000</td>\n",
       "      <td>3.228440e+05</td>\n",
       "    </tr>\n",
       "    <tr>\n",
       "      <th>mean</th>\n",
       "      <td>1.544047e+09</td>\n",
       "      <td>11.611986</td>\n",
       "      <td>17.793380</td>\n",
       "      <td>11.587045</td>\n",
       "      <td>14.596878</td>\n",
       "      <td>2.189991</td>\n",
       "      <td>1.005900</td>\n",
       "      <td>42.338073</td>\n",
       "      <td>-71.066162</td>\n",
       "      <td>39.586898</td>\n",
       "      <td>...</td>\n",
       "      <td>0.037368</td>\n",
       "      <td>1.544045e+09</td>\n",
       "      <td>33.458969</td>\n",
       "      <td>1.544042e+09</td>\n",
       "      <td>45.263932</td>\n",
       "      <td>1.544048e+09</td>\n",
       "      <td>29.730870</td>\n",
       "      <td>1.544049e+09</td>\n",
       "      <td>41.997339</td>\n",
       "      <td>1.544049e+09</td>\n",
       "    </tr>\n",
       "    <tr>\n",
       "      <th>std</th>\n",
       "      <td>6.893543e+05</td>\n",
       "      <td>6.945794</td>\n",
       "      <td>9.977869</td>\n",
       "      <td>0.492366</td>\n",
       "      <td>9.573120</td>\n",
       "      <td>1.150471</td>\n",
       "      <td>0.059262</td>\n",
       "      <td>0.047918</td>\n",
       "      <td>0.020321</td>\n",
       "      <td>6.719967</td>\n",
       "      <td>...</td>\n",
       "      <td>0.055194</td>\n",
       "      <td>6.913761e+05</td>\n",
       "      <td>6.468837</td>\n",
       "      <td>6.903767e+05</td>\n",
       "      <td>5.647543</td>\n",
       "      <td>6.903028e+05</td>\n",
       "      <td>7.113967</td>\n",
       "      <td>6.873598e+05</td>\n",
       "      <td>6.941223</td>\n",
       "      <td>6.912309e+05</td>\n",
       "    </tr>\n",
       "    <tr>\n",
       "      <th>min</th>\n",
       "      <td>1.543204e+09</td>\n",
       "      <td>0.000000</td>\n",
       "      <td>1.000000</td>\n",
       "      <td>11.000000</td>\n",
       "      <td>2.500000</td>\n",
       "      <td>0.020000</td>\n",
       "      <td>1.000000</td>\n",
       "      <td>42.214800</td>\n",
       "      <td>-71.105400</td>\n",
       "      <td>18.910000</td>\n",
       "      <td>...</td>\n",
       "      <td>0.000000</td>\n",
       "      <td>1.543162e+09</td>\n",
       "      <td>15.630000</td>\n",
       "      <td>1.543122e+09</td>\n",
       "      <td>33.510000</td>\n",
       "      <td>1.543154e+09</td>\n",
       "      <td>11.810000</td>\n",
       "      <td>1.543136e+09</td>\n",
       "      <td>28.950000</td>\n",
       "      <td>1.543187e+09</td>\n",
       "    </tr>\n",
       "    <tr>\n",
       "      <th>25%</th>\n",
       "      <td>1.543444e+09</td>\n",
       "      <td>6.000000</td>\n",
       "      <td>13.000000</td>\n",
       "      <td>11.000000</td>\n",
       "      <td>7.500000</td>\n",
       "      <td>1.280000</td>\n",
       "      <td>1.000000</td>\n",
       "      <td>42.350300</td>\n",
       "      <td>-71.081000</td>\n",
       "      <td>36.500000</td>\n",
       "      <td>...</td>\n",
       "      <td>0.000000</td>\n",
       "      <td>1.543421e+09</td>\n",
       "      <td>30.170000</td>\n",
       "      <td>1.543399e+09</td>\n",
       "      <td>42.570000</td>\n",
       "      <td>1.543439e+09</td>\n",
       "      <td>27.760000</td>\n",
       "      <td>1.543399e+09</td>\n",
       "      <td>36.570000</td>\n",
       "      <td>1.543439e+09</td>\n",
       "    </tr>\n",
       "    <tr>\n",
       "      <th>50%</th>\n",
       "      <td>1.543738e+09</td>\n",
       "      <td>12.000000</td>\n",
       "      <td>17.000000</td>\n",
       "      <td>12.000000</td>\n",
       "      <td>10.500000</td>\n",
       "      <td>2.170000</td>\n",
       "      <td>1.000000</td>\n",
       "      <td>42.351900</td>\n",
       "      <td>-71.063100</td>\n",
       "      <td>40.490000</td>\n",
       "      <td>...</td>\n",
       "      <td>0.000400</td>\n",
       "      <td>1.543770e+09</td>\n",
       "      <td>34.240000</td>\n",
       "      <td>1.543727e+09</td>\n",
       "      <td>44.660000</td>\n",
       "      <td>1.543788e+09</td>\n",
       "      <td>30.130000</td>\n",
       "      <td>1.543745e+09</td>\n",
       "      <td>40.950000</td>\n",
       "      <td>1.543788e+09</td>\n",
       "    </tr>\n",
       "    <tr>\n",
       "      <th>75%</th>\n",
       "      <td>1.544828e+09</td>\n",
       "      <td>18.000000</td>\n",
       "      <td>28.000000</td>\n",
       "      <td>12.000000</td>\n",
       "      <td>22.500000</td>\n",
       "      <td>2.880000</td>\n",
       "      <td>1.000000</td>\n",
       "      <td>42.364700</td>\n",
       "      <td>-71.054200</td>\n",
       "      <td>43.580000</td>\n",
       "      <td>...</td>\n",
       "      <td>0.091600</td>\n",
       "      <td>1.544807e+09</td>\n",
       "      <td>38.880000</td>\n",
       "      <td>1.544789e+09</td>\n",
       "      <td>46.910000</td>\n",
       "      <td>1.544814e+09</td>\n",
       "      <td>35.710000</td>\n",
       "      <td>1.544789e+09</td>\n",
       "      <td>44.120000</td>\n",
       "      <td>1.544818e+09</td>\n",
       "    </tr>\n",
       "    <tr>\n",
       "      <th>max</th>\n",
       "      <td>1.545161e+09</td>\n",
       "      <td>23.000000</td>\n",
       "      <td>30.000000</td>\n",
       "      <td>12.000000</td>\n",
       "      <td>89.500000</td>\n",
       "      <td>7.860000</td>\n",
       "      <td>2.000000</td>\n",
       "      <td>42.366100</td>\n",
       "      <td>-71.033000</td>\n",
       "      <td>57.220000</td>\n",
       "      <td>...</td>\n",
       "      <td>0.145900</td>\n",
       "      <td>1.545152e+09</td>\n",
       "      <td>43.100000</td>\n",
       "      <td>1.545192e+09</td>\n",
       "      <td>57.870000</td>\n",
       "      <td>1.545109e+09</td>\n",
       "      <td>40.050000</td>\n",
       "      <td>1.545134e+09</td>\n",
       "      <td>57.200000</td>\n",
       "      <td>1.545109e+09</td>\n",
       "    </tr>\n",
       "  </tbody>\n",
       "</table>\n",
       "<p>8 rows × 46 columns</p>\n",
       "</div>"
      ],
      "text/plain": [
       "          timestamp           hour            day          month  \\\n",
       "count  3.228440e+05  322844.000000  322844.000000  322844.000000   \n",
       "mean   1.544047e+09      11.611986      17.793380      11.587045   \n",
       "std    6.893543e+05       6.945794       9.977869       0.492366   \n",
       "min    1.543204e+09       0.000000       1.000000      11.000000   \n",
       "25%    1.543444e+09       6.000000      13.000000      11.000000   \n",
       "50%    1.543738e+09      12.000000      17.000000      12.000000   \n",
       "75%    1.544828e+09      18.000000      28.000000      12.000000   \n",
       "max    1.545161e+09      23.000000      30.000000      12.000000   \n",
       "\n",
       "               price       distance  surge_multiplier       latitude  \\\n",
       "count  267749.000000  322844.000000     322844.000000  322844.000000   \n",
       "mean       14.596878       2.189991          1.005900      42.338073   \n",
       "std         9.573120       1.150471          0.059262       0.047918   \n",
       "min         2.500000       0.020000          1.000000      42.214800   \n",
       "25%         7.500000       1.280000          1.000000      42.350300   \n",
       "50%        10.500000       2.170000          1.000000      42.351900   \n",
       "75%        22.500000       2.880000          1.000000      42.364700   \n",
       "max        89.500000       7.860000          2.000000      42.366100   \n",
       "\n",
       "           longitude    temperature  ...  precipIntensityMax   uvIndexTime  \\\n",
       "count  322844.000000  322844.000000  ...       322844.000000  3.228440e+05   \n",
       "mean      -71.066162      39.586898  ...            0.037368  1.544045e+09   \n",
       "std         0.020321       6.719967  ...            0.055194  6.913761e+05   \n",
       "min       -71.105400      18.910000  ...            0.000000  1.543162e+09   \n",
       "25%       -71.081000      36.500000  ...            0.000000  1.543421e+09   \n",
       "50%       -71.063100      40.490000  ...            0.000400  1.543770e+09   \n",
       "75%       -71.054200      43.580000  ...            0.091600  1.544807e+09   \n",
       "max       -71.033000      57.220000  ...            0.145900  1.545152e+09   \n",
       "\n",
       "       temperatureMin  temperatureMinTime  temperatureMax  temperatureMaxTime  \\\n",
       "count   322844.000000        3.228440e+05   322844.000000        3.228440e+05   \n",
       "mean        33.458969        1.544042e+09       45.263932        1.544048e+09   \n",
       "std          6.468837        6.903767e+05        5.647543        6.903028e+05   \n",
       "min         15.630000        1.543122e+09       33.510000        1.543154e+09   \n",
       "25%         30.170000        1.543399e+09       42.570000        1.543439e+09   \n",
       "50%         34.240000        1.543727e+09       44.660000        1.543788e+09   \n",
       "75%         38.880000        1.544789e+09       46.910000        1.544814e+09   \n",
       "max         43.100000        1.545192e+09       57.870000        1.545109e+09   \n",
       "\n",
       "       apparentTemperatureMin  apparentTemperatureMinTime  \\\n",
       "count           322844.000000                3.228440e+05   \n",
       "mean                29.730870                1.544049e+09   \n",
       "std                  7.113967                6.873598e+05   \n",
       "min                 11.810000                1.543136e+09   \n",
       "25%                 27.760000                1.543399e+09   \n",
       "50%                 30.130000                1.543745e+09   \n",
       "75%                 35.710000                1.544789e+09   \n",
       "max                 40.050000                1.545134e+09   \n",
       "\n",
       "       apparentTemperatureMax  apparentTemperatureMaxTime  \n",
       "count           322844.000000                3.228440e+05  \n",
       "mean                41.997339                1.544049e+09  \n",
       "std                  6.941223                6.912309e+05  \n",
       "min                 28.950000                1.543187e+09  \n",
       "25%                 36.570000                1.543439e+09  \n",
       "50%                 40.950000                1.543788e+09  \n",
       "75%                 44.120000                1.544818e+09  \n",
       "max                 57.200000                1.545109e+09  \n",
       "\n",
       "[8 rows x 46 columns]"
      ]
     },
     "execution_count": 13,
     "metadata": {},
     "output_type": "execute_result"
    }
   ],
   "source": [
    "uber_dataset.describe()"
   ]
  },
  {
   "cell_type": "code",
   "execution_count": 14,
   "id": "9736a2dd-abe6-4dbd-b68b-6cdbd262dbc1",
   "metadata": {},
   "outputs": [
    {
     "data": {
      "text/plain": [
       "id                                 0\n",
       "timestamp                          0\n",
       "hour                               0\n",
       "day                                0\n",
       "month                              0\n",
       "datetime                           0\n",
       "timezone                           0\n",
       "source                             0\n",
       "destination                        0\n",
       "product_id                         0\n",
       "name                               0\n",
       "price                          55095\n",
       "distance                           0\n",
       "surge_multiplier                   0\n",
       "latitude                           0\n",
       "longitude                          0\n",
       "temperature                        0\n",
       "apparentTemperature                0\n",
       "short_summary                      0\n",
       "long_summary                       0\n",
       "precipIntensity                    0\n",
       "precipProbability                  0\n",
       "humidity                           0\n",
       "windSpeed                          0\n",
       "windGust                           0\n",
       "windGustTime                       0\n",
       "visibility                         0\n",
       "temperatureHigh                    0\n",
       "temperatureHighTime                0\n",
       "temperatureLow                     0\n",
       "temperatureLowTime                 0\n",
       "apparentTemperatureHigh            0\n",
       "apparentTemperatureHighTime        0\n",
       "apparentTemperatureLow             0\n",
       "apparentTemperatureLowTime         0\n",
       "icon                               0\n",
       "dewPoint                           0\n",
       "pressure                           0\n",
       "windBearing                        0\n",
       "cloudCover                         0\n",
       "uvIndex                            0\n",
       "visibility.1                       0\n",
       "ozone                              0\n",
       "sunriseTime                        0\n",
       "sunsetTime                         0\n",
       "moonPhase                          0\n",
       "precipIntensityMax                 0\n",
       "uvIndexTime                        0\n",
       "temperatureMin                     0\n",
       "temperatureMinTime                 0\n",
       "temperatureMax                     0\n",
       "temperatureMaxTime                 0\n",
       "apparentTemperatureMin             0\n",
       "apparentTemperatureMinTime         0\n",
       "apparentTemperatureMax             0\n",
       "apparentTemperatureMaxTime         0\n",
       "dtype: int64"
      ]
     },
     "execution_count": 14,
     "metadata": {},
     "output_type": "execute_result"
    }
   ],
   "source": [
    "uber_dataset.isnull().sum()"
   ]
  },
  {
   "cell_type": "markdown",
   "id": "ee24f5c7-86a6-4190-8e2a-d30c558a6168",
   "metadata": {},
   "source": [
    "## 4. Feature Engineering\n",
    "\n",
    "***\n",
    "\n",
    "What is a feature and why we need the engineering of it? Basically, all machine learning algorithms use some input data to create outputs. This input data comprise features, which are usually in the form of structured columns. Algorithms require features with some specific characteristic to work properly. Here, the need for feature engineering arises. \n",
    "\n",
    "I think feature engineering efforts mainly have two goals:\n",
    "\n",
    "1) Preparing the proper input dataset, compatible with the machine learning algorithm requirements.\n",
    "\n",
    "2) Improving the performance of machine learning models.\n",
    "\n",
    "**According to a survey in Forbes, data scientists spend 80% of their time on data preparation:**"
   ]
  },
  {
   "cell_type": "markdown",
   "id": "c5dbd84e-1d7f-4220-8eba-7c4191daf046",
   "metadata": {},
   "source": [
    "### Ploting"
   ]
  },
  {
   "cell_type": "code",
   "execution_count": 17,
   "id": "185ba677-7cd2-48b4-a19e-938743f97277",
   "metadata": {},
   "outputs": [],
   "source": [
    "import numpy as np \n",
    "import pandas as pd \n",
    "import matplotlib.pyplot as plt\n",
    "%matplotlib inline \n",
    "import seaborn as sns"
   ]
  },
  {
   "cell_type": "markdown",
   "id": "dd1fdba0-acf1-4fdd-aa03-04bc4d6a9c69",
   "metadata": {},
   "source": [
    "### Strip Plot"
   ]
  },
  {
   "cell_type": "code",
   "execution_count": 19,
   "id": "814bdee1-1833-4022-8037-f4cba7aed552",
   "metadata": {},
   "outputs": [
    {
     "data": {
      "text/plain": [
       "<Axes: xlabel='price', ylabel='name'>"
      ]
     },
     "execution_count": 19,
     "metadata": {},
     "output_type": "execute_result"
    },
    {
     "data": {
      "image/png": "[encoded data removed]",
      "text/plain": [
       "<Figure size 640x480 with 1 Axes>"
      ]
     },
     "metadata": {},
     "output_type": "display_data"
    }
   ],
   "source": [
    "sns.stripplot(data=uber_dataset,x=\"price\",y=\"name\",hue=\"name\")"
   ]
  },
  {
   "cell_type": "code",
   "execution_count": 20,
   "id": "1cc9079e-a053-4a51-b325-ea1c6684a622",
   "metadata": {},
   "outputs": [
    {
     "data": {
      "text/plain": [
       "<Axes: xlabel='price', ylabel='icon'>"
      ]
     },
     "execution_count": 20,
     "metadata": {},
     "output_type": "execute_result"
    },
    {
     "data": {
      "image/png": "[encoded data removed]",
      "text/plain": [
       "<Figure size 640x480 with 1 Axes>"
      ]
     },
     "metadata": {},
     "output_type": "display_data"
    }
   ],
   "source": [
    "sns.stripplot(data=uber_dataset,x=\"price\",y=\"icon\",hue=\"icon\")"
   ]
  },
  {
   "cell_type": "code",
   "execution_count": 21,
   "id": "6a34d286-4400-4766-aec3-ea8d8f911d68",
   "metadata": {},
   "outputs": [
    {
     "data": {
      "text/plain": [
       "<Axes: xlabel='surge_multiplier', ylabel='source'>"
      ]
     },
     "execution_count": 21,
     "metadata": {},
     "output_type": "execute_result"
    },
    {
     "data": {
      "image/png": "[encoded data removed]",
      "text/plain": [
       "<Figure size 640x480 with 1 Axes>"
      ]
     },
     "metadata": {},
     "output_type": "display_data"
    }
   ],
   "source": [
    "sns.stripplot(data=uber_dataset,x=\"surge_multiplier\",y=\"source\",hue=\"source\")"
   ]
  },
  {
   "cell_type": "code",
   "execution_count": 22,
   "id": "e0f11a32-ba12-4ae2-824c-844f33e75833",
   "metadata": {},
   "outputs": [
    {
     "data": {
      "text/plain": [
       "<Axes: xlabel='surge_multiplier', ylabel='hour'>"
      ]
     },
     "execution_count": 22,
     "metadata": {},
     "output_type": "execute_result"
    },
    {
     "data": {
      "image/png": "[encoded data removed]",
      "text/plain": [
       "<Figure size 640x480 with 1 Axes>"
      ]
     },
     "metadata": {},
     "output_type": "display_data"
    }
   ],
   "source": [
    "sns.stripplot(data=uber_dataset,x=\"surge_multiplier\",y=\"hour\",hue=\"surge_multiplier\",palette=\"muted\",legend=False)"
   ]
  },
  {
   "cell_type": "markdown",
   "id": "52adf405-8ff0-4e4b-9439-3ddf6e471d9a",
   "metadata": {},
   "source": [
    "### Converting The Timestamp To Datetime Value\n",
    "\n",
    "***"
   ]
  },
  {
   "cell_type": "code",
   "execution_count": 24,
   "id": "6b67db14-d69c-4cb2-8745-395f02614bd6",
   "metadata": {},
   "outputs": [
    {
     "data": {
      "text/plain": [
       "0     1544952607\n",
       "1     1543284023\n",
       "8     1543818482\n",
       "10    1543594383\n",
       "14    1544728503\n",
       "Name: timestamp, dtype: int32"
      ]
     },
     "execution_count": 24,
     "metadata": {},
     "output_type": "execute_result"
    }
   ],
   "source": [
    "uber_dataset[\"timestamp\"].astype(int).head()"
   ]
  },
  {
   "cell_type": "code",
   "execution_count": 25,
   "id": "c3175070-7821-4f6a-b16c-3a96540cd6f7",
   "metadata": {},
   "outputs": [
    {
     "name": "stdout",
     "output_type": "stream",
     "text": [
      "dt_object = 2018-12-16 15:00:08\n",
      "dt_object = 2018-11-27 07:30:24\n",
      "dt_object = 2018-12-03 11:58:03\n",
      "dt_object = 2018-11-30 21:43:04\n",
      "dt_object = 2018-12-14 00:45:04\n"
     ]
    }
   ],
   "source": [
    "from datetime import datetime\n",
    "timestamp1 = 1544952608\n",
    "timestamp2 = 1543284024\n",
    "timestamp3 = 1543818483\n",
    "timestamp4 = 1543594384\n",
    "timestamp5 = 1544728504\n",
    "dt_object1 = datetime.fromtimestamp(timestamp1)\n",
    "dt_object2 = datetime.fromtimestamp(timestamp2)\n",
    "dt_object3 = datetime.fromtimestamp(timestamp3)\n",
    "dt_object4 = datetime.fromtimestamp(timestamp4)\n",
    "dt_object5 = datetime.fromtimestamp(timestamp5)\n",
    "\n",
    "print(\"dt_object =\", dt_object1)\n",
    "print(\"dt_object =\", dt_object2)\n",
    "print(\"dt_object =\", dt_object3)\n",
    "print(\"dt_object =\", dt_object4)\n",
    "print(\"dt_object =\", dt_object5)"
   ]
  },
  {
   "cell_type": "markdown",
   "id": "09657167-16d0-440d-bcec-1e2cf8b6e6c7",
   "metadata": {},
   "source": [
    "- So by this timestamp to datetime conversion we get to know that, our data is of the year 2018 and in the month of november and december only"
   ]
  },
  {
   "cell_type": "markdown",
   "id": "7b75cbe6-c0b0-4454-a459-23276dc2ff9d",
   "metadata": {},
   "source": [
    "### Bar Plot\n",
    "\n",
    "***"
   ]
  },
  {
   "cell_type": "code",
   "execution_count": 28,
   "id": "eccda1d4-437e-4030-b9f8-504d07d50868",
   "metadata": {},
   "outputs": [
    {
     "data": {
      "text/plain": [
       "<Axes: xlabel='month'>"
      ]
     },
     "execution_count": 28,
     "metadata": {},
     "output_type": "execute_result"
    },
    {
     "data": {
      "image/png": "[encoded data removed]",
      "text/plain": [
       "<Figure size 1000x500 with 1 Axes>"
      ]
     },
     "metadata": {},
     "output_type": "display_data"
    }
   ],
   "source": [
    "uber_dataset[\"month\"].value_counts().plot(kind=\"bar\",figsize=(10,5), color='blue')"
   ]
  },
  {
   "cell_type": "code",
   "execution_count": 29,
   "id": "d65700c4-713e-4ed2-b90d-b7eba6630c44",
   "metadata": {},
   "outputs": [
    {
     "data": {
      "text/plain": [
       "<Axes: xlabel='source'>"
      ]
     },
     "execution_count": 29,
     "metadata": {},
     "output_type": "execute_result"
    },
    {
     "data": {
      "image/png": "[encoded data removed]",
      "text/plain": [
       "<Figure size 1000x500 with 1 Axes>"
      ]
     },
     "metadata": {},
     "output_type": "display_data"
    }
   ],
   "source": [
    "uber_dataset['source'].value_counts().plot(kind='bar', figsize=(10,5), color='green')"
   ]
  },
  {
   "cell_type": "code",
   "execution_count": 30,
   "id": "1f6b0a5d-a762-4a45-8436-28c2f8bd3c70",
   "metadata": {},
   "outputs": [
    {
     "data": {
      "text/plain": [
       "<Axes: xlabel='name'>"
      ]
     },
     "execution_count": 30,
     "metadata": {},
     "output_type": "execute_result"
    },
    {
     "data": {
      "image/png": "[encoded data removed]",
      "text/plain": [
       "<Figure size 1000x500 with 1 Axes>"
      ]
     },
     "metadata": {},
     "output_type": "display_data"
    }
   ],
   "source": [
    "uber_dataset['name'].value_counts().plot(kind='bar', figsize=(10,5), color='orange')"
   ]
  },
  {
   "cell_type": "code",
   "execution_count": 31,
   "id": "1205b01b-cfeb-40e3-9e35-a4305af322dd",
   "metadata": {},
   "outputs": [
    {
     "data": {
      "text/plain": [
       "<Axes: xlabel='icon'>"
      ]
     },
     "execution_count": 31,
     "metadata": {},
     "output_type": "execute_result"
    },
    {
     "data": {
      "image/png": "[encoded data removed]",
      "text/plain": [
       "<Figure size 1000x500 with 1 Axes>"
      ]
     },
     "metadata": {},
     "output_type": "display_data"
    }
   ],
   "source": [
    "uber_dataset['icon'].value_counts().plot(kind='bar', figsize=(10,5), color='red')"
   ]
  },
  {
   "cell_type": "code",
   "execution_count": 32,
   "id": "a878d05d-39cf-468f-bc42-2157ebe95a18",
   "metadata": {},
   "outputs": [
    {
     "data": {
      "text/plain": [
       "<Axes: xlabel='uvIndex'>"
      ]
     },
     "execution_count": 32,
     "metadata": {},
     "output_type": "execute_result"
    },
    {
     "data": {
      "image/png": "[encoded data removed]",
      "text/plain": [
       "<Figure size 1000x500 with 1 Axes>"
      ]
     },
     "metadata": {},
     "output_type": "display_data"
    }
   ],
   "source": [
    "uber_dataset['uvIndex'].value_counts().plot(kind='bar', figsize=(10,5), color='brown')"
   ]
  },
  {
   "cell_type": "code",
   "execution_count": 33,
   "id": "a7f373d8-976b-4ef7-8ff0-6303ba306b1f",
   "metadata": {},
   "outputs": [
    {
     "data": {
      "text/plain": [
       "<Axes: xlabel='moonPhase'>"
      ]
     },
     "execution_count": 33,
     "metadata": {},
     "output_type": "execute_result"
    },
    {
     "data": {
      "image/png": "[encoded data removed]",
      "text/plain": [
       "<Figure size 1000x500 with 1 Axes>"
      ]
     },
     "metadata": {},
     "output_type": "display_data"
    }
   ],
   "source": [
    "uber_dataset['moonPhase'].value_counts().plot(kind='bar', figsize=(10,5), color='orange')"
   ]
  },
  {
   "cell_type": "code",
   "execution_count": 34,
   "id": "91db7d4d-5a08-4bac-9b70-bfeb9bed07c5",
   "metadata": {},
   "outputs": [
    {
     "data": {
      "text/plain": [
       "<Axes: xlabel='precipProbability'>"
      ]
     },
     "execution_count": 34,
     "metadata": {},
     "output_type": "execute_result"
    },
    {
     "data": {
      "image/png": "[encoded data removed]",
      "text/plain": [
       "<Figure size 1000x500 with 1 Axes>"
      ]
     },
     "metadata": {},
     "output_type": "display_data"
    }
   ],
   "source": [
    "uber_dataset['precipProbability'].value_counts().plot(kind='bar', figsize=(10,5), color='blue')"
   ]
  },
  {
   "cell_type": "markdown",
   "id": "7c28a9f5-37ce-44be-886a-601887b190d3",
   "metadata": {},
   "source": [
    "### Label Encoding \n",
    "\n",
    "***"
   ]
  },
  {
   "cell_type": "code",
   "execution_count": 36,
   "id": "e0cb2928-f35e-4363-adc1-dc4ba33d8ea0",
   "metadata": {},
   "outputs": [],
   "source": [
    "# Import label encoder \n",
    "from sklearn import preprocessing \n",
    "  \n",
    "# label_encoder object knows how to understand word labels. \n",
    "label_encoder = preprocessing.LabelEncoder() "
   ]
  },
  {
   "cell_type": "code",
   "execution_count": 37,
   "id": "9d2703a1-81b3-4aa8-8113-c1f6bf513abe",
   "metadata": {},
   "outputs": [
    {
     "data": {
      "text/plain": [
       "id                              object\n",
       "timestamp                      float64\n",
       "hour                             int64\n",
       "day                              int64\n",
       "month                            int64\n",
       "datetime                        object\n",
       "timezone                        object\n",
       "source                          object\n",
       "destination                     object\n",
       "product_id                      object\n",
       "name                            object\n",
       "price                          float64\n",
       "distance                       float64\n",
       "surge_multiplier               float64\n",
       "latitude                       float64\n",
       "longitude                      float64\n",
       "temperature                    float64\n",
       "apparentTemperature            float64\n",
       "short_summary                   object\n",
       "long_summary                    object\n",
       "precipIntensity                float64\n",
       "precipProbability              float64\n",
       "humidity                       float64\n",
       "windSpeed                      float64\n",
       "windGust                       float64\n",
       "windGustTime                     int64\n",
       "visibility                     float64\n",
       "temperatureHigh                float64\n",
       "temperatureHighTime              int64\n",
       "temperatureLow                 float64\n",
       "temperatureLowTime               int64\n",
       "apparentTemperatureHigh        float64\n",
       "apparentTemperatureHighTime      int64\n",
       "apparentTemperatureLow         float64\n",
       "apparentTemperatureLowTime       int64\n",
       "icon                            object\n",
       "dewPoint                       float64\n",
       "pressure                       float64\n",
       "windBearing                      int64\n",
       "cloudCover                     float64\n",
       "uvIndex                          int64\n",
       "visibility.1                   float64\n",
       "ozone                          float64\n",
       "sunriseTime                      int64\n",
       "sunsetTime                       int64\n",
       "moonPhase                      float64\n",
       "precipIntensityMax             float64\n",
       "uvIndexTime                      int64\n",
       "temperatureMin                 float64\n",
       "temperatureMinTime               int64\n",
       "temperatureMax                 float64\n",
       "temperatureMaxTime               int64\n",
       "apparentTemperatureMin         float64\n",
       "apparentTemperatureMinTime       int64\n",
       "apparentTemperatureMax         float64\n",
       "apparentTemperatureMaxTime       int64\n",
       "dtype: object"
      ]
     },
     "execution_count": 37,
     "metadata": {},
     "output_type": "execute_result"
    }
   ],
   "source": [
    "uber_dataset.dtypes"
   ]
  },
  {
   "cell_type": "code",
   "execution_count": 38,
   "id": "60665e2d-a0d7-4ded-9d57-e701e3bfbd91",
   "metadata": {},
   "outputs": [],
   "source": [
    "uber_dataset['id']= label_encoder.fit_transform(uber_dataset['id']) \n",
    "uber_dataset['datetime']= label_encoder.fit_transform(uber_dataset['datetime']) \n",
    "uber_dataset['timezone']= label_encoder.fit_transform(uber_dataset['timezone'])\n",
    "uber_dataset['destination']= label_encoder.fit_transform(uber_dataset['destination']) \n",
    "uber_dataset['product_id']= label_encoder.fit_transform(uber_dataset['product_id'])\n",
    "uber_dataset['short_summary']= label_encoder.fit_transform(uber_dataset['short_summary'])\n",
    "uber_dataset['long_summary']= label_encoder.fit_transform(uber_dataset['long_summary'])"
   ]
  },
  {
   "cell_type": "code",
   "execution_count": 39,
   "id": "50e66fc9-a38f-4245-b875-2318c98289cb",
   "metadata": {},
   "outputs": [
    {
     "name": "stdout",
     "output_type": "stream",
     "text": [
      "Class mapping of Name: \n",
      "Black SUV --> 0\n",
      "Lux --> 1\n",
      "Shared --> 2\n",
      "Taxi --> 3\n",
      "UberPool --> 4\n",
      "UberX --> 5\n"
     ]
    }
   ],
   "source": [
    "uber_dataset['name']= label_encoder.fit_transform(uber_dataset['name'])\n",
    "\n",
    "print(\"Class mapping of Name: \")\n",
    "for i, item in enumerate(label_encoder.classes_):\n",
    "    print(item, \"-->\", i)"
   ]
  },
  {
   "cell_type": "code",
   "execution_count": 40,
   "id": "5baa0c17-91f7-453a-881c-fa3c5603c1c0",
   "metadata": {},
   "outputs": [
    {
     "name": "stdout",
     "output_type": "stream",
     "text": [
      "Class mapping of Source: \n",
      "Back Bay --> 0\n",
      "Beacon Hill --> 1\n",
      "Boston University --> 2\n",
      "Fenway --> 3\n",
      "Financial District --> 4\n",
      "Haymarket Square --> 5\n",
      "North End --> 6\n",
      "North Station --> 7\n",
      "Northeastern University --> 8\n",
      "South Station --> 9\n",
      "Theatre District --> 10\n",
      "West End --> 11\n"
     ]
    }
   ],
   "source": [
    "uber_dataset['source']= label_encoder.fit_transform(uber_dataset['source'])\n",
    "\n",
    "print(\"Class mapping of Source: \")\n",
    "for i, item in enumerate(label_encoder.classes_):\n",
    "    print(item, \"-->\", i)"
   ]
  },
  {
   "cell_type": "code",
   "execution_count": 41,
   "id": "764bd800-763e-4974-add8-59a24fb22cfe",
   "metadata": {},
   "outputs": [
    {
     "name": "stdout",
     "output_type": "stream",
     "text": [
      "Class mapping of Icon: \n",
      " clear-day  --> 0\n",
      " clear-night  --> 1\n",
      " cloudy  --> 2\n",
      " fog  --> 3\n",
      " partly-cloudy-day  --> 4\n",
      " partly-cloudy-night  --> 5\n",
      " rain  --> 6\n"
     ]
    }
   ],
   "source": [
    "uber_dataset['icon']= label_encoder.fit_transform(uber_dataset['icon'])\n",
    "\n",
    "print(\"Class mapping of Icon: \")\n",
    "for i, item in enumerate(label_encoder.classes_):\n",
    "    print(item, \"-->\", i)"
   ]
  },
  {
   "cell_type": "code",
   "execution_count": 42,
   "id": "55da22a4-b23d-4675-a1d7-df7dbd392e44",
   "metadata": {},
   "outputs": [
    {
     "data": {
      "text/plain": [
       "id                               int32\n",
       "timestamp                      float64\n",
       "hour                             int64\n",
       "day                              int64\n",
       "month                            int64\n",
       "datetime                         int32\n",
       "timezone                         int32\n",
       "source                           int32\n",
       "destination                      int32\n",
       "product_id                       int32\n",
       "name                             int32\n",
       "price                          float64\n",
       "distance                       float64\n",
       "surge_multiplier               float64\n",
       "latitude                       float64\n",
       "longitude                      float64\n",
       "temperature                    float64\n",
       "apparentTemperature            float64\n",
       "short_summary                    int32\n",
       "long_summary                     int32\n",
       "precipIntensity                float64\n",
       "precipProbability              float64\n",
       "humidity                       float64\n",
       "windSpeed                      float64\n",
       "windGust                       float64\n",
       "windGustTime                     int64\n",
       "visibility                     float64\n",
       "temperatureHigh                float64\n",
       "temperatureHighTime              int64\n",
       "temperatureLow                 float64\n",
       "temperatureLowTime               int64\n",
       "apparentTemperatureHigh        float64\n",
       "apparentTemperatureHighTime      int64\n",
       "apparentTemperatureLow         float64\n",
       "apparentTemperatureLowTime       int64\n",
       "icon                             int32\n",
       "dewPoint                       float64\n",
       "pressure                       float64\n",
       "windBearing                      int64\n",
       "cloudCover                     float64\n",
       "uvIndex                          int64\n",
       "visibility.1                   float64\n",
       "ozone                          float64\n",
       "sunriseTime                      int64\n",
       "sunsetTime                       int64\n",
       "moonPhase                      float64\n",
       "precipIntensityMax             float64\n",
       "uvIndexTime                      int64\n",
       "temperatureMin                 float64\n",
       "temperatureMinTime               int64\n",
       "temperatureMax                 float64\n",
       "temperatureMaxTime               int64\n",
       "apparentTemperatureMin         float64\n",
       "apparentTemperatureMinTime       int64\n",
       "apparentTemperatureMax         float64\n",
       "apparentTemperatureMaxTime       int64\n",
       "dtype: object"
      ]
     },
     "execution_count": 42,
     "metadata": {},
     "output_type": "execute_result"
    }
   ],
   "source": [
    "uber_dataset.dtypes"
   ]
  },
  {
   "cell_type": "code",
   "execution_count": 43,
   "id": "c0f8afd0-a15a-4d72-9e14-b7230fc92292",
   "metadata": {},
   "outputs": [
    {
     "data": {
      "text/html": [
       "<div>\n",
       "<style scoped>\n",
       "    .dataframe tbody tr th:only-of-type {\n",
       "        vertical-align: middle;\n",
       "    }\n",
       "\n",
       "    .dataframe tbody tr th {\n",
       "        vertical-align: top;\n",
       "    }\n",
       "\n",
       "    .dataframe thead th {\n",
       "        text-align: right;\n",
       "    }\n",
       "</style>\n",
       "<table border=\"1\" class=\"dataframe\">\n",
       "  <thead>\n",
       "    <tr style=\"text-align: right;\">\n",
       "      <th></th>\n",
       "      <th>id</th>\n",
       "      <th>timestamp</th>\n",
       "      <th>hour</th>\n",
       "      <th>day</th>\n",
       "      <th>month</th>\n",
       "      <th>datetime</th>\n",
       "      <th>timezone</th>\n",
       "      <th>source</th>\n",
       "      <th>destination</th>\n",
       "      <th>product_id</th>\n",
       "      <th>...</th>\n",
       "      <th>precipIntensityMax</th>\n",
       "      <th>uvIndexTime</th>\n",
       "      <th>temperatureMin</th>\n",
       "      <th>temperatureMinTime</th>\n",
       "      <th>temperatureMax</th>\n",
       "      <th>temperatureMaxTime</th>\n",
       "      <th>apparentTemperatureMin</th>\n",
       "      <th>apparentTemperatureMinTime</th>\n",
       "      <th>apparentTemperatureMax</th>\n",
       "      <th>apparentTemperatureMaxTime</th>\n",
       "    </tr>\n",
       "  </thead>\n",
       "  <tbody>\n",
       "    <tr>\n",
       "      <th>0</th>\n",
       "      <td>83667</td>\n",
       "      <td>1.544953e+09</td>\n",
       "      <td>9</td>\n",
       "      <td>16</td>\n",
       "      <td>12</td>\n",
       "      <td>25323</td>\n",
       "      <td>0</td>\n",
       "      <td>5</td>\n",
       "      <td>7</td>\n",
       "      <td>4</td>\n",
       "      <td>...</td>\n",
       "      <td>0.1276</td>\n",
       "      <td>1544979600</td>\n",
       "      <td>39.89</td>\n",
       "      <td>1545012000</td>\n",
       "      <td>43.68</td>\n",
       "      <td>1544968800</td>\n",
       "      <td>33.73</td>\n",
       "      <td>1545012000</td>\n",
       "      <td>38.07</td>\n",
       "      <td>1544958000</td>\n",
       "    </tr>\n",
       "    <tr>\n",
       "      <th>1</th>\n",
       "      <td>95698</td>\n",
       "      <td>1.543284e+09</td>\n",
       "      <td>2</td>\n",
       "      <td>27</td>\n",
       "      <td>11</td>\n",
       "      <td>960</td>\n",
       "      <td>0</td>\n",
       "      <td>5</td>\n",
       "      <td>7</td>\n",
       "      <td>5</td>\n",
       "      <td>...</td>\n",
       "      <td>0.1300</td>\n",
       "      <td>1543251600</td>\n",
       "      <td>40.49</td>\n",
       "      <td>1543233600</td>\n",
       "      <td>47.30</td>\n",
       "      <td>1543251600</td>\n",
       "      <td>36.20</td>\n",
       "      <td>1543291200</td>\n",
       "      <td>43.92</td>\n",
       "      <td>1543251600</td>\n",
       "    </tr>\n",
       "    <tr>\n",
       "      <th>8</th>\n",
       "      <td>100484</td>\n",
       "      <td>1.543818e+09</td>\n",
       "      <td>6</td>\n",
       "      <td>3</td>\n",
       "      <td>12</td>\n",
       "      <td>14499</td>\n",
       "      <td>0</td>\n",
       "      <td>0</td>\n",
       "      <td>8</td>\n",
       "      <td>4</td>\n",
       "      <td>...</td>\n",
       "      <td>0.0004</td>\n",
       "      <td>1543852800</td>\n",
       "      <td>43.09</td>\n",
       "      <td>1543896000</td>\n",
       "      <td>57.02</td>\n",
       "      <td>1543852800</td>\n",
       "      <td>39.90</td>\n",
       "      <td>1543896000</td>\n",
       "      <td>56.35</td>\n",
       "      <td>1543852800</td>\n",
       "    </tr>\n",
       "    <tr>\n",
       "      <th>10</th>\n",
       "      <td>181550</td>\n",
       "      <td>1.543594e+09</td>\n",
       "      <td>16</td>\n",
       "      <td>30</td>\n",
       "      <td>11</td>\n",
       "      <td>8152</td>\n",
       "      <td>0</td>\n",
       "      <td>0</td>\n",
       "      <td>8</td>\n",
       "      <td>5</td>\n",
       "      <td>...</td>\n",
       "      <td>0.0004</td>\n",
       "      <td>1543593600</td>\n",
       "      <td>28.64</td>\n",
       "      <td>1543579200</td>\n",
       "      <td>42.32</td>\n",
       "      <td>1543600800</td>\n",
       "      <td>29.29</td>\n",
       "      <td>1543579200</td>\n",
       "      <td>40.48</td>\n",
       "      <td>1543611600</td>\n",
       "    </tr>\n",
       "    <tr>\n",
       "      <th>14</th>\n",
       "      <td>67474</td>\n",
       "      <td>1.544729e+09</td>\n",
       "      <td>19</td>\n",
       "      <td>13</td>\n",
       "      <td>12</td>\n",
       "      <td>18731</td>\n",
       "      <td>0</td>\n",
       "      <td>6</td>\n",
       "      <td>11</td>\n",
       "      <td>0</td>\n",
       "      <td>...</td>\n",
       "      <td>0.0001</td>\n",
       "      <td>1544716800</td>\n",
       "      <td>18.29</td>\n",
       "      <td>1544688000</td>\n",
       "      <td>33.83</td>\n",
       "      <td>1544731200</td>\n",
       "      <td>13.79</td>\n",
       "      <td>1544688000</td>\n",
       "      <td>32.85</td>\n",
       "      <td>1544734800</td>\n",
       "    </tr>\n",
       "  </tbody>\n",
       "</table>\n",
       "<p>5 rows × 56 columns</p>\n",
       "</div>"
      ],
      "text/plain": [
       "        id     timestamp  hour  day  month  datetime  timezone  source  \\\n",
       "0    83667  1.544953e+09     9   16     12     25323         0       5   \n",
       "1    95698  1.543284e+09     2   27     11       960         0       5   \n",
       "8   100484  1.543818e+09     6    3     12     14499         0       0   \n",
       "10  181550  1.543594e+09    16   30     11      8152         0       0   \n",
       "14   67474  1.544729e+09    19   13     12     18731         0       6   \n",
       "\n",
       "    destination  product_id  ...  precipIntensityMax  uvIndexTime  \\\n",
       "0             7           4  ...              0.1276   1544979600   \n",
       "1             7           5  ...              0.1300   1543251600   \n",
       "8             8           4  ...              0.0004   1543852800   \n",
       "10            8           5  ...              0.0004   1543593600   \n",
       "14           11           0  ...              0.0001   1544716800   \n",
       "\n",
       "    temperatureMin  temperatureMinTime  temperatureMax  temperatureMaxTime  \\\n",
       "0            39.89          1545012000           43.68          1544968800   \n",
       "1            40.49          1543233600           47.30          1543251600   \n",
       "8            43.09          1543896000           57.02          1543852800   \n",
       "10           28.64          1543579200           42.32          1543600800   \n",
       "14           18.29          1544688000           33.83          1544731200   \n",
       "\n",
       "    apparentTemperatureMin  apparentTemperatureMinTime  \\\n",
       "0                    33.73                  1545012000   \n",
       "1                    36.20                  1543291200   \n",
       "8                    39.90                  1543896000   \n",
       "10                   29.29                  1543579200   \n",
       "14                   13.79                  1544688000   \n",
       "\n",
       "    apparentTemperatureMax  apparentTemperatureMaxTime  \n",
       "0                    38.07                  1544958000  \n",
       "1                    43.92                  1543251600  \n",
       "8                    56.35                  1543852800  \n",
       "10                   40.48                  1543611600  \n",
       "14                   32.85                  1544734800  \n",
       "\n",
       "[5 rows x 56 columns]"
      ]
     },
     "execution_count": 43,
     "metadata": {},
     "output_type": "execute_result"
    }
   ],
   "source": [
    "uber_dataset.head()"
   ]
  },
  {
   "cell_type": "markdown",
   "id": "7bb40cd7-853c-4360-841d-371895c65fe5",
   "metadata": {},
   "source": [
    "### Filling NAN Values\n",
    "\n",
    "***"
   ]
  },
  {
   "cell_type": "code",
   "execution_count": 45,
   "id": "a158f98e-cad9-4025-8922-afb8d727d322",
   "metadata": {},
   "outputs": [
    {
     "data": {
      "text/plain": [
       "id                                 0\n",
       "timestamp                          0\n",
       "hour                               0\n",
       "day                                0\n",
       "month                              0\n",
       "datetime                           0\n",
       "timezone                           0\n",
       "source                             0\n",
       "destination                        0\n",
       "product_id                         0\n",
       "name                               0\n",
       "price                          55095\n",
       "distance                           0\n",
       "surge_multiplier                   0\n",
       "latitude                           0\n",
       "longitude                          0\n",
       "temperature                        0\n",
       "apparentTemperature                0\n",
       "short_summary                      0\n",
       "long_summary                       0\n",
       "precipIntensity                    0\n",
       "precipProbability                  0\n",
       "humidity                           0\n",
       "windSpeed                          0\n",
       "windGust                           0\n",
       "windGustTime                       0\n",
       "visibility                         0\n",
       "temperatureHigh                    0\n",
       "temperatureHighTime                0\n",
       "temperatureLow                     0\n",
       "temperatureLowTime                 0\n",
       "apparentTemperatureHigh            0\n",
       "apparentTemperatureHighTime        0\n",
       "apparentTemperatureLow             0\n",
       "apparentTemperatureLowTime         0\n",
       "icon                               0\n",
       "dewPoint                           0\n",
       "pressure                           0\n",
       "windBearing                        0\n",
       "cloudCover                         0\n",
       "uvIndex                            0\n",
       "visibility.1                       0\n",
       "ozone                              0\n",
       "sunriseTime                        0\n",
       "sunsetTime                         0\n",
       "moonPhase                          0\n",
       "precipIntensityMax                 0\n",
       "uvIndexTime                        0\n",
       "temperatureMin                     0\n",
       "temperatureMinTime                 0\n",
       "temperatureMax                     0\n",
       "temperatureMaxTime                 0\n",
       "apparentTemperatureMin             0\n",
       "apparentTemperatureMinTime         0\n",
       "apparentTemperatureMax             0\n",
       "apparentTemperatureMaxTime         0\n",
       "dtype: int64"
      ]
     },
     "execution_count": 45,
     "metadata": {},
     "output_type": "execute_result"
    }
   ],
   "source": [
    "uber_dataset.isnull().sum()"
   ]
  },
  {
   "cell_type": "code",
   "execution_count": 46,
   "id": "eff628c4-bdaa-4bd3-9068-f2c5ca5a1253",
   "metadata": {},
   "outputs": [
    {
     "data": {
      "text/plain": [
       "10.5"
      ]
     },
     "execution_count": 46,
     "metadata": {},
     "output_type": "execute_result"
    }
   ],
   "source": [
    "uber_dataset['price'].median()"
   ]
  },
  {
   "cell_type": "code",
   "execution_count": 47,
   "id": "b94c4d44-3191-4a02-8694-12ce5028ee64",
   "metadata": {},
   "outputs": [],
   "source": [
    "uber_dataset[\"price\"] = uber_dataset[\"price\"].fillna(10.5)"
   ]
  },
  {
   "cell_type": "code",
   "execution_count": 48,
   "id": "f875bf3b-efd4-4220-ba0f-ebd595339769",
   "metadata": {},
   "outputs": [
    {
     "data": {
      "text/plain": [
       "id                             0\n",
       "timestamp                      0\n",
       "hour                           0\n",
       "day                            0\n",
       "month                          0\n",
       "datetime                       0\n",
       "timezone                       0\n",
       "source                         0\n",
       "destination                    0\n",
       "product_id                     0\n",
       "name                           0\n",
       "price                          0\n",
       "distance                       0\n",
       "surge_multiplier               0\n",
       "latitude                       0\n",
       "longitude                      0\n",
       "temperature                    0\n",
       "apparentTemperature            0\n",
       "short_summary                  0\n",
       "long_summary                   0\n",
       "precipIntensity                0\n",
       "precipProbability              0\n",
       "humidity                       0\n",
       "windSpeed                      0\n",
       "windGust                       0\n",
       "windGustTime                   0\n",
       "visibility                     0\n",
       "temperatureHigh                0\n",
       "temperatureHighTime            0\n",
       "temperatureLow                 0\n",
       "temperatureLowTime             0\n",
       "apparentTemperatureHigh        0\n",
       "apparentTemperatureHighTime    0\n",
       "apparentTemperatureLow         0\n",
       "apparentTemperatureLowTime     0\n",
       "icon                           0\n",
       "dewPoint                       0\n",
       "pressure                       0\n",
       "windBearing                    0\n",
       "cloudCover                     0\n",
       "uvIndex                        0\n",
       "visibility.1                   0\n",
       "ozone                          0\n",
       "sunriseTime                    0\n",
       "sunsetTime                     0\n",
       "moonPhase                      0\n",
       "precipIntensityMax             0\n",
       "uvIndexTime                    0\n",
       "temperatureMin                 0\n",
       "temperatureMinTime             0\n",
       "temperatureMax                 0\n",
       "temperatureMaxTime             0\n",
       "apparentTemperatureMin         0\n",
       "apparentTemperatureMinTime     0\n",
       "apparentTemperatureMax         0\n",
       "apparentTemperatureMaxTime     0\n",
       "dtype: int64"
      ]
     },
     "execution_count": 48,
     "metadata": {},
     "output_type": "execute_result"
    }
   ],
   "source": [
    "uber_dataset.isnull().sum()"
   ]
  },
  {
   "cell_type": "code",
   "execution_count": 49,
   "id": "08e4dd2f-4fa1-41a1-8148-0aed5289835a",
   "metadata": {},
   "outputs": [
    {
     "data": {
      "text/plain": [
       "dtype('float64')"
      ]
     },
     "execution_count": 49,
     "metadata": {},
     "output_type": "execute_result"
    }
   ],
   "source": [
    "uber_dataset['price'].dtype"
   ]
  },
  {
   "cell_type": "code",
   "execution_count": 50,
   "id": "3d49d41d-e8bf-4545-abe7-9a1c934a19b2",
   "metadata": {},
   "outputs": [],
   "source": [
    "uber_dataset['price'] = uber_dataset['price'].astype(int)"
   ]
  },
  {
   "cell_type": "code",
   "execution_count": 51,
   "id": "b7a20201-c9ad-4130-ba3a-b2d24464e71e",
   "metadata": {},
   "outputs": [
    {
     "data": {
      "text/plain": [
       "0      5\n",
       "1     11\n",
       "8      3\n",
       "10    13\n",
       "14     7\n",
       "Name: price, dtype: int32"
      ]
     },
     "execution_count": 51,
     "metadata": {},
     "output_type": "execute_result"
    }
   ],
   "source": [
    "uber_dataset['price'].head()"
   ]
  },
  {
   "cell_type": "markdown",
   "id": "d631d2f9-ee8e-4877-b535-0267ddfae07a",
   "metadata": {},
   "source": [
    "### RFE (Recursive Feature Elimination)\n",
    "\n",
    "***"
   ]
  },
  {
   "cell_type": "code",
   "execution_count": 53,
   "id": "878c6c54-2811-46b1-af8c-6b54e0a6cfe1",
   "metadata": {},
   "outputs": [],
   "source": [
    "import numpy as np\n",
    "from sklearn.feature_selection import SelectKBest\n",
    "from sklearn.feature_selection import chi2"
   ]
  },
  {
   "cell_type": "code",
   "execution_count": 54,
   "id": "b74a9d57-faf2-4105-af83-866d8b2c3b69",
   "metadata": {},
   "outputs": [],
   "source": [
    "from sklearn.model_selection import train_test_split\n",
    "from sklearn.metrics import accuracy_score"
   ]
  },
  {
   "cell_type": "code",
   "execution_count": 55,
   "id": "424c5108-43bd-4feb-b8e7-7c4f38f16ac9",
   "metadata": {},
   "outputs": [],
   "source": [
    "from sklearn.linear_model import LinearRegression\n",
    "from sklearn.linear_model import LogisticRegression\n",
    "from sklearn.tree import DecisionTreeRegressor\n",
    "from sklearn.ensemble import RandomForestRegressor"
   ]
  },
  {
   "cell_type": "code",
   "execution_count": 56,
   "id": "29559c01-ffa6-4799-a6d3-b6ff7fe76efb",
   "metadata": {},
   "outputs": [],
   "source": [
    "from sklearn.feature_selection import RFE"
   ]
  },
  {
   "cell_type": "code",
   "execution_count": 57,
   "id": "996004b9-8e43-40af-9336-f43614033ac8",
   "metadata": {},
   "outputs": [],
   "source": [
    "X = uber_dataset.drop('price', axis = 1)\n",
    "y = uber_dataset['price']"
   ]
  },
  {
   "cell_type": "code",
   "execution_count": 58,
   "id": "51bcecbc-fd89-4e78-ab1c-3d2954bb73f4",
   "metadata": {},
   "outputs": [
    {
     "data": {
      "text/html": [
       "<div>\n",
       "<style scoped>\n",
       "    .dataframe tbody tr th:only-of-type {\n",
       "        vertical-align: middle;\n",
       "    }\n",
       "\n",
       "    .dataframe tbody tr th {\n",
       "        vertical-align: top;\n",
       "    }\n",
       "\n",
       "    .dataframe thead th {\n",
       "        text-align: right;\n",
       "    }\n",
       "</style>\n",
       "<table border=\"1\" class=\"dataframe\">\n",
       "  <thead>\n",
       "    <tr style=\"text-align: right;\">\n",
       "      <th></th>\n",
       "      <th>id</th>\n",
       "      <th>timestamp</th>\n",
       "      <th>hour</th>\n",
       "      <th>day</th>\n",
       "      <th>month</th>\n",
       "      <th>datetime</th>\n",
       "      <th>timezone</th>\n",
       "      <th>source</th>\n",
       "      <th>destination</th>\n",
       "      <th>product_id</th>\n",
       "      <th>...</th>\n",
       "      <th>precipIntensityMax</th>\n",
       "      <th>uvIndexTime</th>\n",
       "      <th>temperatureMin</th>\n",
       "      <th>temperatureMinTime</th>\n",
       "      <th>temperatureMax</th>\n",
       "      <th>temperatureMaxTime</th>\n",
       "      <th>apparentTemperatureMin</th>\n",
       "      <th>apparentTemperatureMinTime</th>\n",
       "      <th>apparentTemperatureMax</th>\n",
       "      <th>apparentTemperatureMaxTime</th>\n",
       "    </tr>\n",
       "  </thead>\n",
       "  <tbody>\n",
       "    <tr>\n",
       "      <th>0</th>\n",
       "      <td>83667</td>\n",
       "      <td>1.544953e+09</td>\n",
       "      <td>9</td>\n",
       "      <td>16</td>\n",
       "      <td>12</td>\n",
       "      <td>25323</td>\n",
       "      <td>0</td>\n",
       "      <td>5</td>\n",
       "      <td>7</td>\n",
       "      <td>4</td>\n",
       "      <td>...</td>\n",
       "      <td>0.1276</td>\n",
       "      <td>1544979600</td>\n",
       "      <td>39.89</td>\n",
       "      <td>1545012000</td>\n",
       "      <td>43.68</td>\n",
       "      <td>1544968800</td>\n",
       "      <td>33.73</td>\n",
       "      <td>1545012000</td>\n",
       "      <td>38.07</td>\n",
       "      <td>1544958000</td>\n",
       "    </tr>\n",
       "    <tr>\n",
       "      <th>1</th>\n",
       "      <td>95698</td>\n",
       "      <td>1.543284e+09</td>\n",
       "      <td>2</td>\n",
       "      <td>27</td>\n",
       "      <td>11</td>\n",
       "      <td>960</td>\n",
       "      <td>0</td>\n",
       "      <td>5</td>\n",
       "      <td>7</td>\n",
       "      <td>5</td>\n",
       "      <td>...</td>\n",
       "      <td>0.1300</td>\n",
       "      <td>1543251600</td>\n",
       "      <td>40.49</td>\n",
       "      <td>1543233600</td>\n",
       "      <td>47.30</td>\n",
       "      <td>1543251600</td>\n",
       "      <td>36.20</td>\n",
       "      <td>1543291200</td>\n",
       "      <td>43.92</td>\n",
       "      <td>1543251600</td>\n",
       "    </tr>\n",
       "    <tr>\n",
       "      <th>8</th>\n",
       "      <td>100484</td>\n",
       "      <td>1.543818e+09</td>\n",
       "      <td>6</td>\n",
       "      <td>3</td>\n",
       "      <td>12</td>\n",
       "      <td>14499</td>\n",
       "      <td>0</td>\n",
       "      <td>0</td>\n",
       "      <td>8</td>\n",
       "      <td>4</td>\n",
       "      <td>...</td>\n",
       "      <td>0.0004</td>\n",
       "      <td>1543852800</td>\n",
       "      <td>43.09</td>\n",
       "      <td>1543896000</td>\n",
       "      <td>57.02</td>\n",
       "      <td>1543852800</td>\n",
       "      <td>39.90</td>\n",
       "      <td>1543896000</td>\n",
       "      <td>56.35</td>\n",
       "      <td>1543852800</td>\n",
       "    </tr>\n",
       "    <tr>\n",
       "      <th>10</th>\n",
       "      <td>181550</td>\n",
       "      <td>1.543594e+09</td>\n",
       "      <td>16</td>\n",
       "      <td>30</td>\n",
       "      <td>11</td>\n",
       "      <td>8152</td>\n",
       "      <td>0</td>\n",
       "      <td>0</td>\n",
       "      <td>8</td>\n",
       "      <td>5</td>\n",
       "      <td>...</td>\n",
       "      <td>0.0004</td>\n",
       "      <td>1543593600</td>\n",
       "      <td>28.64</td>\n",
       "      <td>1543579200</td>\n",
       "      <td>42.32</td>\n",
       "      <td>1543600800</td>\n",
       "      <td>29.29</td>\n",
       "      <td>1543579200</td>\n",
       "      <td>40.48</td>\n",
       "      <td>1543611600</td>\n",
       "    </tr>\n",
       "    <tr>\n",
       "      <th>14</th>\n",
       "      <td>67474</td>\n",
       "      <td>1.544729e+09</td>\n",
       "      <td>19</td>\n",
       "      <td>13</td>\n",
       "      <td>12</td>\n",
       "      <td>18731</td>\n",
       "      <td>0</td>\n",
       "      <td>6</td>\n",
       "      <td>11</td>\n",
       "      <td>0</td>\n",
       "      <td>...</td>\n",
       "      <td>0.0001</td>\n",
       "      <td>1544716800</td>\n",
       "      <td>18.29</td>\n",
       "      <td>1544688000</td>\n",
       "      <td>33.83</td>\n",
       "      <td>1544731200</td>\n",
       "      <td>13.79</td>\n",
       "      <td>1544688000</td>\n",
       "      <td>32.85</td>\n",
       "      <td>1544734800</td>\n",
       "    </tr>\n",
       "  </tbody>\n",
       "</table>\n",
       "<p>5 rows × 55 columns</p>\n",
       "</div>"
      ],
      "text/plain": [
       "        id     timestamp  hour  day  month  datetime  timezone  source  \\\n",
       "0    83667  1.544953e+09     9   16     12     25323         0       5   \n",
       "1    95698  1.543284e+09     2   27     11       960         0       5   \n",
       "8   100484  1.543818e+09     6    3     12     14499         0       0   \n",
       "10  181550  1.543594e+09    16   30     11      8152         0       0   \n",
       "14   67474  1.544729e+09    19   13     12     18731         0       6   \n",
       "\n",
       "    destination  product_id  ...  precipIntensityMax  uvIndexTime  \\\n",
       "0             7           4  ...              0.1276   1544979600   \n",
       "1             7           5  ...              0.1300   1543251600   \n",
       "8             8           4  ...              0.0004   1543852800   \n",
       "10            8           5  ...              0.0004   1543593600   \n",
       "14           11           0  ...              0.0001   1544716800   \n",
       "\n",
       "    temperatureMin  temperatureMinTime  temperatureMax  temperatureMaxTime  \\\n",
       "0            39.89          1545012000           43.68          1544968800   \n",
       "1            40.49          1543233600           47.30          1543251600   \n",
       "8            43.09          1543896000           57.02          1543852800   \n",
       "10           28.64          1543579200           42.32          1543600800   \n",
       "14           18.29          1544688000           33.83          1544731200   \n",
       "\n",
       "    apparentTemperatureMin  apparentTemperatureMinTime  \\\n",
       "0                    33.73                  1545012000   \n",
       "1                    36.20                  1543291200   \n",
       "8                    39.90                  1543896000   \n",
       "10                   29.29                  1543579200   \n",
       "14                   13.79                  1544688000   \n",
       "\n",
       "    apparentTemperatureMax  apparentTemperatureMaxTime  \n",
       "0                    38.07                  1544958000  \n",
       "1                    43.92                  1543251600  \n",
       "8                    56.35                  1543852800  \n",
       "10                   40.48                  1543611600  \n",
       "14                   32.85                  1544734800  \n",
       "\n",
       "[5 rows x 55 columns]"
      ]
     },
     "execution_count": 58,
     "metadata": {},
     "output_type": "execute_result"
    }
   ],
   "source": [
    "X.head()"
   ]
  },
  {
   "cell_type": "code",
   "execution_count": 59,
   "id": "2467e885-b8f0-4bea-9ef6-b5828fd37f0c",
   "metadata": {},
   "outputs": [
    {
     "data": {
      "text/plain": [
       "0      5\n",
       "1     11\n",
       "8      3\n",
       "10    13\n",
       "14     7\n",
       "Name: price, dtype: int32"
      ]
     },
     "execution_count": 59,
     "metadata": {},
     "output_type": "execute_result"
    }
   ],
   "source": [
    "y.head()"
   ]
  },
  {
   "cell_type": "code",
   "execution_count": 60,
   "id": "d584e6e5-e6e1-4a4a-8f88-1598350a7e5a",
   "metadata": {},
   "outputs": [
    {
     "data": {
      "text/plain": [
       "(322844, 55)"
      ]
     },
     "execution_count": 60,
     "metadata": {},
     "output_type": "execute_result"
    }
   ],
   "source": [
    "X.shape"
   ]
  },
  {
   "cell_type": "code",
   "execution_count": 61,
   "id": "ff110c1b-bf36-4b7a-8c4e-f52f98dcd126",
   "metadata": {},
   "outputs": [
    {
     "data": {
      "text/plain": [
       "(322844,)"
      ]
     },
     "execution_count": 61,
     "metadata": {},
     "output_type": "execute_result"
    }
   ],
   "source": [
    "y.shape"
   ]
  },
  {
   "cell_type": "code",
   "execution_count": 62,
   "id": "c2b0769c-bf58-4bc2-a0e2-2a6476fe866f",
   "metadata": {},
   "outputs": [
    {
     "data": {
      "text/plain": [
       "<Axes: xlabel='price'>"
      ]
     },
     "execution_count": 62,
     "metadata": {},
     "output_type": "execute_result"
    },
    {
     "data": {
      "image/png": "[encoded data removed]",
      "text/plain": [
       "<Figure size 3000x800 with 1 Axes>"
      ]
     },
     "metadata": {},
     "output_type": "display_data"
    }
   ],
   "source": [
    "y.value_counts().plot(kind='bar',figsize=(30,8),color='red')"
   ]
  },
  {
   "cell_type": "markdown",
   "id": "7dfb7f25-7c17-4473-ad66-96c1379add88",
   "metadata": {},
   "source": [
    "#### Training accuracy in 56 features"
   ]
  },
  {
   "cell_type": "code",
   "execution_count": 64,
   "id": "dd0a86b1-9afd-417c-9870-fb518785284f",
   "metadata": {},
   "outputs": [],
   "source": [
    "X_train, X_test, y_train, y_test = train_test_split(X, y, test_size = 0.2, random_state = 42)"
   ]
  },
  {
   "cell_type": "code",
   "execution_count": 65,
   "id": "eced2904-ab06-4ab5-a319-cfe1515ba27d",
   "metadata": {},
   "outputs": [
    {
     "data": {
      "text/plain": [
       "(258275, 55)"
      ]
     },
     "execution_count": 65,
     "metadata": {},
     "output_type": "execute_result"
    }
   ],
   "source": [
    "X_train.shape"
   ]
  },
  {
   "cell_type": "code",
   "execution_count": 66,
   "id": "04558ae2-9a6e-42ff-84a8-023c59e96127",
   "metadata": {},
   "outputs": [
    {
     "data": {
      "text/plain": [
       "(64569, 55)"
      ]
     },
     "execution_count": 66,
     "metadata": {},
     "output_type": "execute_result"
    }
   ],
   "source": [
    "X_test.shape"
   ]
  },
  {
   "cell_type": "code",
   "execution_count": 67,
   "id": "e56fde06-6ed2-4dc7-b272-8355b304f631",
   "metadata": {},
   "outputs": [
    {
     "data": {
      "text/plain": [
       "(258275,)"
      ]
     },
     "execution_count": 67,
     "metadata": {},
     "output_type": "execute_result"
    }
   ],
   "source": [
    "y_train.shape"
   ]
  },
  {
   "cell_type": "code",
   "execution_count": 68,
   "id": "ebab85a7-551c-4cb0-acff-6b1a72681cfe",
   "metadata": {},
   "outputs": [
    {
     "data": {
      "text/plain": [
       "(64569,)"
      ]
     },
     "execution_count": 68,
     "metadata": {},
     "output_type": "execute_result"
    }
   ],
   "source": [
    "y_test.shape"
   ]
  },
  {
   "cell_type": "code",
   "execution_count": 69,
   "id": "43427770-bd7a-4e4c-a4ba-889b263986ed",
   "metadata": {},
   "outputs": [],
   "source": [
    "#Creating model\n",
    "reg = LinearRegression()\n",
    "#Fitting training data\n",
    "reg = reg.fit(X_train, y_train)"
   ]
  },
  {
   "cell_type": "code",
   "execution_count": 70,
   "id": "b45df3c4-abfe-4b29-a371-c73bfbf0deef",
   "metadata": {},
   "outputs": [
    {
     "data": {
      "text/plain": [
       "0.8054832265536255"
      ]
     },
     "execution_count": 70,
     "metadata": {},
     "output_type": "execute_result"
    }
   ],
   "source": [
    "reg.score(X_train, y_train)"
   ]
  },
  {
   "cell_type": "markdown",
   "id": "9908b53f-36fa-4c75-a19c-6f273d528179",
   "metadata": {},
   "source": [
    "#### Training accuracy in 40 features\n",
    "\n",
    "***"
   ]
  },
  {
   "cell_type": "code",
   "execution_count": 72,
   "id": "77201f4c-70ed-409b-ac1f-2de0990f04fd",
   "metadata": {},
   "outputs": [
    {
     "name": "stdout",
     "output_type": "stream",
     "text": [
      "Fitting estimator with 55 features.\n",
      "Fitting estimator with 54 features.\n",
      "Fitting estimator with 53 features.\n",
      "Fitting estimator with 52 features.\n",
      "Fitting estimator with 51 features.\n",
      "Fitting estimator with 50 features.\n",
      "Fitting estimator with 49 features.\n",
      "Fitting estimator with 48 features.\n",
      "Fitting estimator with 47 features.\n",
      "Fitting estimator with 46 features.\n",
      "Fitting estimator with 45 features.\n",
      "Fitting estimator with 44 features.\n",
      "Fitting estimator with 43 features.\n",
      "Fitting estimator with 42 features.\n",
      "Fitting estimator with 41 features.\n"
     ]
    }
   ],
   "source": [
    "\n",
    "rfe = RFE(estimator=reg, n_features_to_select=40,verbose=1)\n",
    "rfe = rfe.fit(X, y)"
   ]
  },
  {
   "cell_type": "code",
   "execution_count": 73,
   "id": "77149f95-d597-43ba-be89-87aca9f2e950",
   "metadata": {},
   "outputs": [
    {
     "data": {
      "text/plain": [
       "array([False, False,  True,  True,  True, False, False,  True,  True,\n",
       "        True,  True,  True,  True,  True,  True,  True,  True,  True,\n",
       "        True,  True,  True,  True,  True,  True, False,  True,  True,\n",
       "       False,  True, False,  True, False,  True, False,  True,  True,\n",
       "        True, False,  True,  True,  True,  True,  True,  True,  True,\n",
       "        True, False,  True, False,  True, False,  True, False,  True,\n",
       "       False])"
      ]
     },
     "execution_count": 73,
     "metadata": {},
     "output_type": "execute_result"
    }
   ],
   "source": [
    "rfe.support_"
   ]
  },
  {
   "cell_type": "code",
   "execution_count": 74,
   "id": "d78f2c61-8bd0-4ffd-9daf-2e84a405225f",
   "metadata": {},
   "outputs": [],
   "source": [
    "XX = X[X.columns[rfe.support_]]"
   ]
  },
  {
   "cell_type": "code",
   "execution_count": 75,
   "id": "aa5f4c87-06ff-4ab2-9d48-ddaf72a8403d",
   "metadata": {},
   "outputs": [
    {
     "data": {
      "text/html": [
       "<div>\n",
       "<style scoped>\n",
       "    .dataframe tbody tr th:only-of-type {\n",
       "        vertical-align: middle;\n",
       "    }\n",
       "\n",
       "    .dataframe tbody tr th {\n",
       "        vertical-align: top;\n",
       "    }\n",
       "\n",
       "    .dataframe thead th {\n",
       "        text-align: right;\n",
       "    }\n",
       "</style>\n",
       "<table border=\"1\" class=\"dataframe\">\n",
       "  <thead>\n",
       "    <tr style=\"text-align: right;\">\n",
       "      <th></th>\n",
       "      <th>hour</th>\n",
       "      <th>day</th>\n",
       "      <th>month</th>\n",
       "      <th>source</th>\n",
       "      <th>destination</th>\n",
       "      <th>product_id</th>\n",
       "      <th>name</th>\n",
       "      <th>distance</th>\n",
       "      <th>surge_multiplier</th>\n",
       "      <th>latitude</th>\n",
       "      <th>...</th>\n",
       "      <th>visibility.1</th>\n",
       "      <th>ozone</th>\n",
       "      <th>sunriseTime</th>\n",
       "      <th>sunsetTime</th>\n",
       "      <th>moonPhase</th>\n",
       "      <th>precipIntensityMax</th>\n",
       "      <th>temperatureMin</th>\n",
       "      <th>temperatureMax</th>\n",
       "      <th>apparentTemperatureMin</th>\n",
       "      <th>apparentTemperatureMax</th>\n",
       "    </tr>\n",
       "  </thead>\n",
       "  <tbody>\n",
       "    <tr>\n",
       "      <th>0</th>\n",
       "      <td>9</td>\n",
       "      <td>16</td>\n",
       "      <td>12</td>\n",
       "      <td>5</td>\n",
       "      <td>7</td>\n",
       "      <td>4</td>\n",
       "      <td>2</td>\n",
       "      <td>0.44</td>\n",
       "      <td>1.0</td>\n",
       "      <td>42.2148</td>\n",
       "      <td>...</td>\n",
       "      <td>10.000</td>\n",
       "      <td>303.8</td>\n",
       "      <td>1544962084</td>\n",
       "      <td>1544994864</td>\n",
       "      <td>0.30</td>\n",
       "      <td>0.1276</td>\n",
       "      <td>39.89</td>\n",
       "      <td>43.68</td>\n",
       "      <td>33.73</td>\n",
       "      <td>38.07</td>\n",
       "    </tr>\n",
       "    <tr>\n",
       "      <th>1</th>\n",
       "      <td>2</td>\n",
       "      <td>27</td>\n",
       "      <td>11</td>\n",
       "      <td>5</td>\n",
       "      <td>7</td>\n",
       "      <td>5</td>\n",
       "      <td>1</td>\n",
       "      <td>0.44</td>\n",
       "      <td>1.0</td>\n",
       "      <td>42.2148</td>\n",
       "      <td>...</td>\n",
       "      <td>4.786</td>\n",
       "      <td>291.1</td>\n",
       "      <td>1543232969</td>\n",
       "      <td>1543266992</td>\n",
       "      <td>0.64</td>\n",
       "      <td>0.1300</td>\n",
       "      <td>40.49</td>\n",
       "      <td>47.30</td>\n",
       "      <td>36.20</td>\n",
       "      <td>43.92</td>\n",
       "    </tr>\n",
       "    <tr>\n",
       "      <th>8</th>\n",
       "      <td>6</td>\n",
       "      <td>3</td>\n",
       "      <td>12</td>\n",
       "      <td>0</td>\n",
       "      <td>8</td>\n",
       "      <td>4</td>\n",
       "      <td>2</td>\n",
       "      <td>1.08</td>\n",
       "      <td>1.0</td>\n",
       "      <td>42.3503</td>\n",
       "      <td>...</td>\n",
       "      <td>1.413</td>\n",
       "      <td>290.9</td>\n",
       "      <td>1543838259</td>\n",
       "      <td>1543871628</td>\n",
       "      <td>0.89</td>\n",
       "      <td>0.0004</td>\n",
       "      <td>43.09</td>\n",
       "      <td>57.02</td>\n",
       "      <td>39.90</td>\n",
       "      <td>56.35</td>\n",
       "    </tr>\n",
       "    <tr>\n",
       "      <th>10</th>\n",
       "      <td>16</td>\n",
       "      <td>30</td>\n",
       "      <td>11</td>\n",
       "      <td>0</td>\n",
       "      <td>8</td>\n",
       "      <td>5</td>\n",
       "      <td>1</td>\n",
       "      <td>1.08</td>\n",
       "      <td>1.0</td>\n",
       "      <td>42.3503</td>\n",
       "      <td>...</td>\n",
       "      <td>9.920</td>\n",
       "      <td>269.9</td>\n",
       "      <td>1543578871</td>\n",
       "      <td>1543612479</td>\n",
       "      <td>0.79</td>\n",
       "      <td>0.0004</td>\n",
       "      <td>28.64</td>\n",
       "      <td>42.32</td>\n",
       "      <td>29.29</td>\n",
       "      <td>40.48</td>\n",
       "    </tr>\n",
       "    <tr>\n",
       "      <th>14</th>\n",
       "      <td>19</td>\n",
       "      <td>13</td>\n",
       "      <td>12</td>\n",
       "      <td>6</td>\n",
       "      <td>11</td>\n",
       "      <td>0</td>\n",
       "      <td>5</td>\n",
       "      <td>1.11</td>\n",
       "      <td>1.0</td>\n",
       "      <td>42.3647</td>\n",
       "      <td>...</td>\n",
       "      <td>9.959</td>\n",
       "      <td>330.8</td>\n",
       "      <td>1544702792</td>\n",
       "      <td>1544735599</td>\n",
       "      <td>0.21</td>\n",
       "      <td>0.0001</td>\n",
       "      <td>18.29</td>\n",
       "      <td>33.83</td>\n",
       "      <td>13.79</td>\n",
       "      <td>32.85</td>\n",
       "    </tr>\n",
       "  </tbody>\n",
       "</table>\n",
       "<p>5 rows × 40 columns</p>\n",
       "</div>"
      ],
      "text/plain": [
       "    hour  day  month  source  destination  product_id  name  distance  \\\n",
       "0      9   16     12       5            7           4     2      0.44   \n",
       "1      2   27     11       5            7           5     1      0.44   \n",
       "8      6    3     12       0            8           4     2      1.08   \n",
       "10    16   30     11       0            8           5     1      1.08   \n",
       "14    19   13     12       6           11           0     5      1.11   \n",
       "\n",
       "    surge_multiplier  latitude  ...  visibility.1  ozone  sunriseTime  \\\n",
       "0                1.0   42.2148  ...        10.000  303.8   1544962084   \n",
       "1                1.0   42.2148  ...         4.786  291.1   1543232969   \n",
       "8                1.0   42.3503  ...         1.413  290.9   1543838259   \n",
       "10               1.0   42.3503  ...         9.920  269.9   1543578871   \n",
       "14               1.0   42.3647  ...         9.959  330.8   1544702792   \n",
       "\n",
       "    sunsetTime  moonPhase  precipIntensityMax  temperatureMin  temperatureMax  \\\n",
       "0   1544994864       0.30              0.1276           39.89           43.68   \n",
       "1   1543266992       0.64              0.1300           40.49           47.30   \n",
       "8   1543871628       0.89              0.0004           43.09           57.02   \n",
       "10  1543612479       0.79              0.0004           28.64           42.32   \n",
       "14  1544735599       0.21              0.0001           18.29           33.83   \n",
       "\n",
       "    apparentTemperatureMin  apparentTemperatureMax  \n",
       "0                    33.73                   38.07  \n",
       "1                    36.20                   43.92  \n",
       "8                    39.90                   56.35  \n",
       "10                   29.29                   40.48  \n",
       "14                   13.79                   32.85  \n",
       "\n",
       "[5 rows x 40 columns]"
      ]
     },
     "execution_count": 75,
     "metadata": {},
     "output_type": "execute_result"
    }
   ],
   "source": [
    "XX.head()"
   ]
  },
  {
   "cell_type": "code",
   "execution_count": 76,
   "id": "42b029c5-1985-4b7b-8f71-0de4605027fe",
   "metadata": {},
   "outputs": [],
   "source": [
    "X_train, X_test, y_train, y_test = train_test_split(XX, y, test_size = 0.3, random_state = 10)"
   ]
  },
  {
   "cell_type": "code",
   "execution_count": 77,
   "id": "7203c348-2a21-4849-8d83-1200ee851920",
   "metadata": {},
   "outputs": [
    {
     "data": {
      "text/plain": [
       "(225990, 40)"
      ]
     },
     "execution_count": 77,
     "metadata": {},
     "output_type": "execute_result"
    }
   ],
   "source": [
    "X_train.shape"
   ]
  },
  {
   "cell_type": "code",
   "execution_count": 78,
   "id": "931e0e64-2ddb-4c2f-9108-36e08e221935",
   "metadata": {},
   "outputs": [],
   "source": [
    "#Creating model\n",
    "reg1 = LinearRegression()\n",
    "#Fitting training data\n",
    "reg1 = reg1.fit(X_train, y_train)"
   ]
  },
  {
   "cell_type": "code",
   "execution_count": 79,
   "id": "353d7bb1-ddbb-42e2-8166-6f573305a947",
   "metadata": {},
   "outputs": [
    {
     "data": {
      "text/plain": [
       "0.8050662132748534"
      ]
     },
     "execution_count": 79,
     "metadata": {},
     "output_type": "execute_result"
    }
   ],
   "source": [
    "reg1.score(X_train, y_train)"
   ]
  },
  {
   "cell_type": "markdown",
   "id": "81525acf-310d-47df-a705-6838ae2d3b40",
   "metadata": {},
   "source": [
    "#### Training accuracy in 15 features\n",
    "\n",
    "***"
   ]
  },
  {
   "cell_type": "code",
   "execution_count": 81,
   "id": "f639988e-3b24-4bf7-a3d2-3d95c20a5062",
   "metadata": {},
   "outputs": [
    {
     "name": "stdout",
     "output_type": "stream",
     "text": [
      "Fitting estimator with 55 features.\n",
      "Fitting estimator with 54 features.\n",
      "Fitting estimator with 53 features.\n",
      "Fitting estimator with 52 features.\n",
      "Fitting estimator with 51 features.\n",
      "Fitting estimator with 50 features.\n",
      "Fitting estimator with 49 features.\n",
      "Fitting estimator with 48 features.\n",
      "Fitting estimator with 47 features.\n",
      "Fitting estimator with 46 features.\n",
      "Fitting estimator with 45 features.\n",
      "Fitting estimator with 44 features.\n",
      "Fitting estimator with 43 features.\n",
      "Fitting estimator with 42 features.\n",
      "Fitting estimator with 41 features.\n",
      "Fitting estimator with 40 features.\n",
      "Fitting estimator with 39 features.\n",
      "Fitting estimator with 38 features.\n",
      "Fitting estimator with 37 features.\n",
      "Fitting estimator with 36 features.\n",
      "Fitting estimator with 35 features.\n",
      "Fitting estimator with 34 features.\n",
      "Fitting estimator with 33 features.\n",
      "Fitting estimator with 32 features.\n",
      "Fitting estimator with 31 features.\n",
      "Fitting estimator with 30 features.\n",
      "Fitting estimator with 29 features.\n",
      "Fitting estimator with 28 features.\n",
      "Fitting estimator with 27 features.\n",
      "Fitting estimator with 26 features.\n",
      "Fitting estimator with 25 features.\n",
      "Fitting estimator with 24 features.\n",
      "Fitting estimator with 23 features.\n",
      "Fitting estimator with 22 features.\n",
      "Fitting estimator with 21 features.\n",
      "Fitting estimator with 20 features.\n",
      "Fitting estimator with 19 features.\n",
      "Fitting estimator with 18 features.\n",
      "Fitting estimator with 17 features.\n",
      "Fitting estimator with 16 features.\n"
     ]
    }
   ],
   "source": [
    "rfe = RFE(estimator=reg, n_features_to_select=15, verbose=1)\n",
    "rfe = rfe.fit(X, y)"
   ]
  },
  {
   "cell_type": "code",
   "execution_count": 82,
   "id": "0b89df8d-36c7-4f76-9180-2a8e84da8220",
   "metadata": {},
   "outputs": [],
   "source": [
    "XX = X[X.columns[rfe.support_]]"
   ]
  },
  {
   "cell_type": "code",
   "execution_count": 83,
   "id": "8f5bbc43-6862-4b61-b57f-7397465f50ac",
   "metadata": {},
   "outputs": [
    {
     "data": {
      "text/html": [
       "<div>\n",
       "<style scoped>\n",
       "    .dataframe tbody tr th:only-of-type {\n",
       "        vertical-align: middle;\n",
       "    }\n",
       "\n",
       "    .dataframe tbody tr th {\n",
       "        vertical-align: top;\n",
       "    }\n",
       "\n",
       "    .dataframe thead th {\n",
       "        text-align: right;\n",
       "    }\n",
       "</style>\n",
       "<table border=\"1\" class=\"dataframe\">\n",
       "  <thead>\n",
       "    <tr style=\"text-align: right;\">\n",
       "      <th></th>\n",
       "      <th>source</th>\n",
       "      <th>product_id</th>\n",
       "      <th>name</th>\n",
       "      <th>distance</th>\n",
       "      <th>surge_multiplier</th>\n",
       "      <th>latitude</th>\n",
       "      <th>longitude</th>\n",
       "      <th>precipIntensity</th>\n",
       "      <th>humidity</th>\n",
       "      <th>temperatureHigh</th>\n",
       "      <th>apparentTemperatureHigh</th>\n",
       "      <th>cloudCover</th>\n",
       "      <th>precipIntensityMax</th>\n",
       "      <th>temperatureMax</th>\n",
       "      <th>apparentTemperatureMax</th>\n",
       "    </tr>\n",
       "  </thead>\n",
       "  <tbody>\n",
       "    <tr>\n",
       "      <th>0</th>\n",
       "      <td>5</td>\n",
       "      <td>4</td>\n",
       "      <td>2</td>\n",
       "      <td>0.44</td>\n",
       "      <td>1.0</td>\n",
       "      <td>42.2148</td>\n",
       "      <td>-71.0330</td>\n",
       "      <td>0.0000</td>\n",
       "      <td>0.68</td>\n",
       "      <td>43.68</td>\n",
       "      <td>37.95</td>\n",
       "      <td>0.72</td>\n",
       "      <td>0.1276</td>\n",
       "      <td>43.68</td>\n",
       "      <td>38.07</td>\n",
       "    </tr>\n",
       "    <tr>\n",
       "      <th>1</th>\n",
       "      <td>5</td>\n",
       "      <td>5</td>\n",
       "      <td>1</td>\n",
       "      <td>0.44</td>\n",
       "      <td>1.0</td>\n",
       "      <td>42.2148</td>\n",
       "      <td>-71.0330</td>\n",
       "      <td>0.1299</td>\n",
       "      <td>0.94</td>\n",
       "      <td>47.30</td>\n",
       "      <td>43.92</td>\n",
       "      <td>1.00</td>\n",
       "      <td>0.1300</td>\n",
       "      <td>47.30</td>\n",
       "      <td>43.92</td>\n",
       "    </tr>\n",
       "    <tr>\n",
       "      <th>8</th>\n",
       "      <td>0</td>\n",
       "      <td>4</td>\n",
       "      <td>2</td>\n",
       "      <td>1.08</td>\n",
       "      <td>1.0</td>\n",
       "      <td>42.3503</td>\n",
       "      <td>-71.0810</td>\n",
       "      <td>0.0000</td>\n",
       "      <td>0.96</td>\n",
       "      <td>57.02</td>\n",
       "      <td>56.35</td>\n",
       "      <td>1.00</td>\n",
       "      <td>0.0004</td>\n",
       "      <td>57.02</td>\n",
       "      <td>56.35</td>\n",
       "    </tr>\n",
       "    <tr>\n",
       "      <th>10</th>\n",
       "      <td>0</td>\n",
       "      <td>5</td>\n",
       "      <td>1</td>\n",
       "      <td>1.08</td>\n",
       "      <td>1.0</td>\n",
       "      <td>42.3503</td>\n",
       "      <td>-71.0810</td>\n",
       "      <td>0.0000</td>\n",
       "      <td>0.62</td>\n",
       "      <td>42.32</td>\n",
       "      <td>40.48</td>\n",
       "      <td>0.12</td>\n",
       "      <td>0.0004</td>\n",
       "      <td>42.32</td>\n",
       "      <td>40.48</td>\n",
       "    </tr>\n",
       "    <tr>\n",
       "      <th>14</th>\n",
       "      <td>6</td>\n",
       "      <td>0</td>\n",
       "      <td>5</td>\n",
       "      <td>1.11</td>\n",
       "      <td>1.0</td>\n",
       "      <td>42.3647</td>\n",
       "      <td>-71.0542</td>\n",
       "      <td>0.0000</td>\n",
       "      <td>0.56</td>\n",
       "      <td>33.83</td>\n",
       "      <td>32.85</td>\n",
       "      <td>0.64</td>\n",
       "      <td>0.0001</td>\n",
       "      <td>33.83</td>\n",
       "      <td>32.85</td>\n",
       "    </tr>\n",
       "  </tbody>\n",
       "</table>\n",
       "</div>"
      ],
      "text/plain": [
       "    source  product_id  name  distance  surge_multiplier  latitude  longitude  \\\n",
       "0        5           4     2      0.44               1.0   42.2148   -71.0330   \n",
       "1        5           5     1      0.44               1.0   42.2148   -71.0330   \n",
       "8        0           4     2      1.08               1.0   42.3503   -71.0810   \n",
       "10       0           5     1      1.08               1.0   42.3503   -71.0810   \n",
       "14       6           0     5      1.11               1.0   42.3647   -71.0542   \n",
       "\n",
       "    precipIntensity  humidity  temperatureHigh  apparentTemperatureHigh  \\\n",
       "0            0.0000      0.68            43.68                    37.95   \n",
       "1            0.1299      0.94            47.30                    43.92   \n",
       "8            0.0000      0.96            57.02                    56.35   \n",
       "10           0.0000      0.62            42.32                    40.48   \n",
       "14           0.0000      0.56            33.83                    32.85   \n",
       "\n",
       "    cloudCover  precipIntensityMax  temperatureMax  apparentTemperatureMax  \n",
       "0         0.72              0.1276           43.68                   38.07  \n",
       "1         1.00              0.1300           47.30                   43.92  \n",
       "8         1.00              0.0004           57.02                   56.35  \n",
       "10        0.12              0.0004           42.32                   40.48  \n",
       "14        0.64              0.0001           33.83                   32.85  "
      ]
     },
     "execution_count": 83,
     "metadata": {},
     "output_type": "execute_result"
    }
   ],
   "source": [
    "XX.head()"
   ]
  },
  {
   "cell_type": "code",
   "execution_count": 84,
   "id": "e63f27a8-93af-49aa-a904-0f542cc0a121",
   "metadata": {},
   "outputs": [],
   "source": [
    "X_train, X_test, y_train, y_test = train_test_split(XX, y, test_size = 0.3, random_state = 10,)"
   ]
  },
  {
   "cell_type": "code",
   "execution_count": 85,
   "id": "08337835-71a4-4a39-8bea-720b1735fa63",
   "metadata": {},
   "outputs": [
    {
     "data": {
      "text/plain": [
       "(225990, 15)"
      ]
     },
     "execution_count": 85,
     "metadata": {},
     "output_type": "execute_result"
    }
   ],
   "source": [
    "X_train.shape"
   ]
  },
  {
   "cell_type": "code",
   "execution_count": 86,
   "id": "50079f02-5c01-48b2-8419-5c436c9827e7",
   "metadata": {},
   "outputs": [],
   "source": [
    "#Creating model\n",
    "reg1 = LinearRegression()\n",
    "#Fitting training data\n",
    "reg1 = reg1.fit(X_train, y_train)"
   ]
  },
  {
   "cell_type": "code",
   "execution_count": 87,
   "id": "58f65323-8738-4a32-9504-157002dedf5e",
   "metadata": {},
   "outputs": [
    {
     "data": {
      "text/plain": [
       "0.8050457819854595"
      ]
     },
     "execution_count": 87,
     "metadata": {},
     "output_type": "execute_result"
    }
   ],
   "source": [
    "reg1.score(X_train, y_train)"
   ]
  },
  {
   "cell_type": "markdown",
   "id": "e12656fc-f8b2-471f-b6bd-f48d232e2144",
   "metadata": {},
   "source": [
    "#### Training accuracy in 25 features\n",
    "\n",
    "***"
   ]
  },
  {
   "cell_type": "code",
   "execution_count": 89,
   "id": "0081abb2-bbfd-4692-8ee0-1a2cfb7af24a",
   "metadata": {},
   "outputs": [
    {
     "name": "stdout",
     "output_type": "stream",
     "text": [
      "Fitting estimator with 55 features.\n",
      "Fitting estimator with 54 features.\n",
      "Fitting estimator with 53 features.\n",
      "Fitting estimator with 52 features.\n",
      "Fitting estimator with 51 features.\n",
      "Fitting estimator with 50 features.\n",
      "Fitting estimator with 49 features.\n",
      "Fitting estimator with 48 features.\n",
      "Fitting estimator with 47 features.\n",
      "Fitting estimator with 46 features.\n",
      "Fitting estimator with 45 features.\n",
      "Fitting estimator with 44 features.\n",
      "Fitting estimator with 43 features.\n",
      "Fitting estimator with 42 features.\n",
      "Fitting estimator with 41 features.\n",
      "Fitting estimator with 40 features.\n",
      "Fitting estimator with 39 features.\n",
      "Fitting estimator with 38 features.\n",
      "Fitting estimator with 37 features.\n",
      "Fitting estimator with 36 features.\n",
      "Fitting estimator with 35 features.\n",
      "Fitting estimator with 34 features.\n",
      "Fitting estimator with 33 features.\n",
      "Fitting estimator with 32 features.\n",
      "Fitting estimator with 31 features.\n",
      "Fitting estimator with 30 features.\n",
      "Fitting estimator with 29 features.\n",
      "Fitting estimator with 28 features.\n",
      "Fitting estimator with 27 features.\n",
      "Fitting estimator with 26 features.\n"
     ]
    }
   ],
   "source": [
    "rfe = RFE(estimator=reg, n_features_to_select=25, verbose=1)\n",
    "rfe = rfe.fit(X, y)"
   ]
  },
  {
   "cell_type": "code",
   "execution_count": 90,
   "id": "5b1c43d6-6233-48ce-a296-2a2bdf6012c1",
   "metadata": {},
   "outputs": [],
   "source": [
    "XX = X[X.columns[rfe.support_]]"
   ]
  },
  {
   "cell_type": "code",
   "execution_count": 91,
   "id": "cd8493fe-349e-4cbe-a9f7-a62368db9f4e",
   "metadata": {},
   "outputs": [
    {
     "data": {
      "text/html": [
       "<div>\n",
       "<style scoped>\n",
       "    .dataframe tbody tr th:only-of-type {\n",
       "        vertical-align: middle;\n",
       "    }\n",
       "\n",
       "    .dataframe tbody tr th {\n",
       "        vertical-align: top;\n",
       "    }\n",
       "\n",
       "    .dataframe thead th {\n",
       "        text-align: right;\n",
       "    }\n",
       "</style>\n",
       "<table border=\"1\" class=\"dataframe\">\n",
       "  <thead>\n",
       "    <tr style=\"text-align: right;\">\n",
       "      <th></th>\n",
       "      <th>month</th>\n",
       "      <th>source</th>\n",
       "      <th>destination</th>\n",
       "      <th>product_id</th>\n",
       "      <th>name</th>\n",
       "      <th>distance</th>\n",
       "      <th>surge_multiplier</th>\n",
       "      <th>latitude</th>\n",
       "      <th>longitude</th>\n",
       "      <th>apparentTemperature</th>\n",
       "      <th>...</th>\n",
       "      <th>temperatureHigh</th>\n",
       "      <th>apparentTemperatureHigh</th>\n",
       "      <th>icon</th>\n",
       "      <th>dewPoint</th>\n",
       "      <th>cloudCover</th>\n",
       "      <th>uvIndex</th>\n",
       "      <th>moonPhase</th>\n",
       "      <th>precipIntensityMax</th>\n",
       "      <th>temperatureMax</th>\n",
       "      <th>apparentTemperatureMax</th>\n",
       "    </tr>\n",
       "  </thead>\n",
       "  <tbody>\n",
       "    <tr>\n",
       "      <th>0</th>\n",
       "      <td>12</td>\n",
       "      <td>5</td>\n",
       "      <td>7</td>\n",
       "      <td>4</td>\n",
       "      <td>2</td>\n",
       "      <td>0.44</td>\n",
       "      <td>1.0</td>\n",
       "      <td>42.2148</td>\n",
       "      <td>-71.0330</td>\n",
       "      <td>37.12</td>\n",
       "      <td>...</td>\n",
       "      <td>43.68</td>\n",
       "      <td>37.95</td>\n",
       "      <td>5</td>\n",
       "      <td>32.70</td>\n",
       "      <td>0.72</td>\n",
       "      <td>0</td>\n",
       "      <td>0.30</td>\n",
       "      <td>0.1276</td>\n",
       "      <td>43.68</td>\n",
       "      <td>38.07</td>\n",
       "    </tr>\n",
       "    <tr>\n",
       "      <th>1</th>\n",
       "      <td>11</td>\n",
       "      <td>5</td>\n",
       "      <td>7</td>\n",
       "      <td>5</td>\n",
       "      <td>1</td>\n",
       "      <td>0.44</td>\n",
       "      <td>1.0</td>\n",
       "      <td>42.2148</td>\n",
       "      <td>-71.0330</td>\n",
       "      <td>37.35</td>\n",
       "      <td>...</td>\n",
       "      <td>47.30</td>\n",
       "      <td>43.92</td>\n",
       "      <td>6</td>\n",
       "      <td>41.83</td>\n",
       "      <td>1.00</td>\n",
       "      <td>0</td>\n",
       "      <td>0.64</td>\n",
       "      <td>0.1300</td>\n",
       "      <td>47.30</td>\n",
       "      <td>43.92</td>\n",
       "    </tr>\n",
       "    <tr>\n",
       "      <th>8</th>\n",
       "      <td>12</td>\n",
       "      <td>0</td>\n",
       "      <td>8</td>\n",
       "      <td>4</td>\n",
       "      <td>2</td>\n",
       "      <td>1.08</td>\n",
       "      <td>1.0</td>\n",
       "      <td>42.3503</td>\n",
       "      <td>-71.0810</td>\n",
       "      <td>45.58</td>\n",
       "      <td>...</td>\n",
       "      <td>57.02</td>\n",
       "      <td>56.35</td>\n",
       "      <td>3</td>\n",
       "      <td>44.50</td>\n",
       "      <td>1.00</td>\n",
       "      <td>0</td>\n",
       "      <td>0.89</td>\n",
       "      <td>0.0004</td>\n",
       "      <td>57.02</td>\n",
       "      <td>56.35</td>\n",
       "    </tr>\n",
       "    <tr>\n",
       "      <th>10</th>\n",
       "      <td>11</td>\n",
       "      <td>0</td>\n",
       "      <td>8</td>\n",
       "      <td>5</td>\n",
       "      <td>1</td>\n",
       "      <td>1.08</td>\n",
       "      <td>1.0</td>\n",
       "      <td>42.3503</td>\n",
       "      <td>-71.0810</td>\n",
       "      <td>38.00</td>\n",
       "      <td>...</td>\n",
       "      <td>42.32</td>\n",
       "      <td>40.48</td>\n",
       "      <td>0</td>\n",
       "      <td>27.99</td>\n",
       "      <td>0.12</td>\n",
       "      <td>2</td>\n",
       "      <td>0.79</td>\n",
       "      <td>0.0004</td>\n",
       "      <td>42.32</td>\n",
       "      <td>40.48</td>\n",
       "    </tr>\n",
       "    <tr>\n",
       "      <th>14</th>\n",
       "      <td>12</td>\n",
       "      <td>6</td>\n",
       "      <td>11</td>\n",
       "      <td>0</td>\n",
       "      <td>5</td>\n",
       "      <td>1.11</td>\n",
       "      <td>1.0</td>\n",
       "      <td>42.3647</td>\n",
       "      <td>-71.0542</td>\n",
       "      <td>32.85</td>\n",
       "      <td>...</td>\n",
       "      <td>33.83</td>\n",
       "      <td>32.85</td>\n",
       "      <td>4</td>\n",
       "      <td>18.66</td>\n",
       "      <td>0.64</td>\n",
       "      <td>0</td>\n",
       "      <td>0.21</td>\n",
       "      <td>0.0001</td>\n",
       "      <td>33.83</td>\n",
       "      <td>32.85</td>\n",
       "    </tr>\n",
       "  </tbody>\n",
       "</table>\n",
       "<p>5 rows × 25 columns</p>\n",
       "</div>"
      ],
      "text/plain": [
       "    month  source  destination  product_id  name  distance  surge_multiplier  \\\n",
       "0      12       5            7           4     2      0.44               1.0   \n",
       "1      11       5            7           5     1      0.44               1.0   \n",
       "8      12       0            8           4     2      1.08               1.0   \n",
       "10     11       0            8           5     1      1.08               1.0   \n",
       "14     12       6           11           0     5      1.11               1.0   \n",
       "\n",
       "    latitude  longitude  apparentTemperature  ...  temperatureHigh  \\\n",
       "0    42.2148   -71.0330                37.12  ...            43.68   \n",
       "1    42.2148   -71.0330                37.35  ...            47.30   \n",
       "8    42.3503   -71.0810                45.58  ...            57.02   \n",
       "10   42.3503   -71.0810                38.00  ...            42.32   \n",
       "14   42.3647   -71.0542                32.85  ...            33.83   \n",
       "\n",
       "    apparentTemperatureHigh  icon  dewPoint  cloudCover  uvIndex  moonPhase  \\\n",
       "0                     37.95     5     32.70        0.72        0       0.30   \n",
       "1                     43.92     6     41.83        1.00        0       0.64   \n",
       "8                     56.35     3     44.50        1.00        0       0.89   \n",
       "10                    40.48     0     27.99        0.12        2       0.79   \n",
       "14                    32.85     4     18.66        0.64        0       0.21   \n",
       "\n",
       "    precipIntensityMax  temperatureMax  apparentTemperatureMax  \n",
       "0               0.1276           43.68                   38.07  \n",
       "1               0.1300           47.30                   43.92  \n",
       "8               0.0004           57.02                   56.35  \n",
       "10              0.0004           42.32                   40.48  \n",
       "14              0.0001           33.83                   32.85  \n",
       "\n",
       "[5 rows x 25 columns]"
      ]
     },
     "execution_count": 91,
     "metadata": {},
     "output_type": "execute_result"
    }
   ],
   "source": [
    "XX.head()"
   ]
  },
  {
   "cell_type": "code",
   "execution_count": 92,
   "id": "79eb4bf6-a6e1-4faf-8a60-779e0998b732",
   "metadata": {},
   "outputs": [],
   "source": [
    "X_train, X_test, y_train, y_test = train_test_split(XX, y, test_size = 0.3, random_state = 20,)"
   ]
  },
  {
   "cell_type": "code",
   "execution_count": 93,
   "id": "eb811cf6-c7cd-4517-9306-2b9056677ab5",
   "metadata": {},
   "outputs": [
    {
     "data": {
      "text/plain": [
       "(225990, 25)"
      ]
     },
     "execution_count": 93,
     "metadata": {},
     "output_type": "execute_result"
    }
   ],
   "source": [
    "X_train.shape"
   ]
  },
  {
   "cell_type": "code",
   "execution_count": 94,
   "id": "5f5d04f4-69be-464c-ae73-d930536c4fcc",
   "metadata": {},
   "outputs": [],
   "source": [
    "#Creating model\n",
    "reg1 = LinearRegression()\n",
    "#Fitting training data\n",
    "reg1 = reg1.fit(X_train, y_train)\n",
    "#Y prediction\n",
    "Y_pred = reg1.predict(X_test)"
   ]
  },
  {
   "cell_type": "code",
   "execution_count": 95,
   "id": "6ddbe166-4431-4769-b896-cffa1ee760ca",
   "metadata": {},
   "outputs": [
    {
     "data": {
      "text/plain": [
       "0.805535515159816"
      ]
     },
     "execution_count": 95,
     "metadata": {},
     "output_type": "execute_result"
    }
   ],
   "source": [
    "reg1.score(X_train, y_train)"
   ]
  },
  {
   "cell_type": "markdown",
   "id": "a9c7984d-2451-45ce-9453-1924cd89aad3",
   "metadata": {},
   "source": [
    "- Since we find the accuracy for  k = 56 , 40 , 25 and 15. \n",
    "- Hence we noticed that the when k = 25 we get the maximum training accuracy in Linear Regression Model"
   ]
  },
  {
   "cell_type": "markdown",
   "id": "a3e39098-da8a-4658-bc3c-3084eec3de01",
   "metadata": {},
   "source": [
    "### 25 Columns After RFE\n",
    "\n",
    "***"
   ]
  },
  {
   "cell_type": "code",
   "execution_count": 98,
   "id": "6aeed395-5398-4dac-b414-787f0ca443b9",
   "metadata": {},
   "outputs": [
    {
     "data": {
      "text/plain": [
       "Index(['month', 'source', 'destination', 'product_id', 'name', 'distance',\n",
       "       'surge_multiplier', 'latitude', 'longitude', 'apparentTemperature',\n",
       "       'long_summary', 'precipIntensity', 'humidity', 'windSpeed', 'windGust',\n",
       "       'temperatureHigh', 'apparentTemperatureHigh', 'icon', 'dewPoint',\n",
       "       'cloudCover', 'uvIndex', 'moonPhase', 'precipIntensityMax',\n",
       "       'temperatureMax', 'apparentTemperatureMax'],\n",
       "      dtype='object')"
      ]
     },
     "execution_count": 98,
     "metadata": {},
     "output_type": "execute_result"
    }
   ],
   "source": [
    "XX.columns"
   ]
  },
  {
   "cell_type": "code",
   "execution_count": 99,
   "id": "be50a871-8d11-47a1-943f-1eb257014c1d",
   "metadata": {},
   "outputs": [
    {
     "data": {
      "text/plain": [
       "(322844, 25)"
      ]
     },
     "execution_count": 99,
     "metadata": {},
     "output_type": "execute_result"
    }
   ],
   "source": [
    "XX.shape"
   ]
  },
  {
   "cell_type": "code",
   "execution_count": 100,
   "id": "6b426c00-31af-4ce5-9bd6-0d9b5b5fabd0",
   "metadata": {},
   "outputs": [
    {
     "data": {
      "text/html": [
       "<div>\n",
       "<style scoped>\n",
       "    .dataframe tbody tr th:only-of-type {\n",
       "        vertical-align: middle;\n",
       "    }\n",
       "\n",
       "    .dataframe tbody tr th {\n",
       "        vertical-align: top;\n",
       "    }\n",
       "\n",
       "    .dataframe thead th {\n",
       "        text-align: right;\n",
       "    }\n",
       "</style>\n",
       "<table border=\"1\" class=\"dataframe\">\n",
       "  <thead>\n",
       "    <tr style=\"text-align: right;\">\n",
       "      <th></th>\n",
       "      <th>month</th>\n",
       "      <th>source</th>\n",
       "      <th>destination</th>\n",
       "      <th>product_id</th>\n",
       "      <th>name</th>\n",
       "      <th>distance</th>\n",
       "      <th>surge_multiplier</th>\n",
       "      <th>latitude</th>\n",
       "      <th>longitude</th>\n",
       "      <th>apparentTemperature</th>\n",
       "      <th>...</th>\n",
       "      <th>temperatureHigh</th>\n",
       "      <th>apparentTemperatureHigh</th>\n",
       "      <th>icon</th>\n",
       "      <th>dewPoint</th>\n",
       "      <th>cloudCover</th>\n",
       "      <th>uvIndex</th>\n",
       "      <th>moonPhase</th>\n",
       "      <th>precipIntensityMax</th>\n",
       "      <th>temperatureMax</th>\n",
       "      <th>apparentTemperatureMax</th>\n",
       "    </tr>\n",
       "  </thead>\n",
       "  <tbody>\n",
       "    <tr>\n",
       "      <th>0</th>\n",
       "      <td>12</td>\n",
       "      <td>5</td>\n",
       "      <td>7</td>\n",
       "      <td>4</td>\n",
       "      <td>2</td>\n",
       "      <td>0.44</td>\n",
       "      <td>1.0</td>\n",
       "      <td>42.2148</td>\n",
       "      <td>-71.0330</td>\n",
       "      <td>37.12</td>\n",
       "      <td>...</td>\n",
       "      <td>43.68</td>\n",
       "      <td>37.95</td>\n",
       "      <td>5</td>\n",
       "      <td>32.70</td>\n",
       "      <td>0.72</td>\n",
       "      <td>0</td>\n",
       "      <td>0.30</td>\n",
       "      <td>0.1276</td>\n",
       "      <td>43.68</td>\n",
       "      <td>38.07</td>\n",
       "    </tr>\n",
       "    <tr>\n",
       "      <th>1</th>\n",
       "      <td>11</td>\n",
       "      <td>5</td>\n",
       "      <td>7</td>\n",
       "      <td>5</td>\n",
       "      <td>1</td>\n",
       "      <td>0.44</td>\n",
       "      <td>1.0</td>\n",
       "      <td>42.2148</td>\n",
       "      <td>-71.0330</td>\n",
       "      <td>37.35</td>\n",
       "      <td>...</td>\n",
       "      <td>47.30</td>\n",
       "      <td>43.92</td>\n",
       "      <td>6</td>\n",
       "      <td>41.83</td>\n",
       "      <td>1.00</td>\n",
       "      <td>0</td>\n",
       "      <td>0.64</td>\n",
       "      <td>0.1300</td>\n",
       "      <td>47.30</td>\n",
       "      <td>43.92</td>\n",
       "    </tr>\n",
       "    <tr>\n",
       "      <th>8</th>\n",
       "      <td>12</td>\n",
       "      <td>0</td>\n",
       "      <td>8</td>\n",
       "      <td>4</td>\n",
       "      <td>2</td>\n",
       "      <td>1.08</td>\n",
       "      <td>1.0</td>\n",
       "      <td>42.3503</td>\n",
       "      <td>-71.0810</td>\n",
       "      <td>45.58</td>\n",
       "      <td>...</td>\n",
       "      <td>57.02</td>\n",
       "      <td>56.35</td>\n",
       "      <td>3</td>\n",
       "      <td>44.50</td>\n",
       "      <td>1.00</td>\n",
       "      <td>0</td>\n",
       "      <td>0.89</td>\n",
       "      <td>0.0004</td>\n",
       "      <td>57.02</td>\n",
       "      <td>56.35</td>\n",
       "    </tr>\n",
       "    <tr>\n",
       "      <th>10</th>\n",
       "      <td>11</td>\n",
       "      <td>0</td>\n",
       "      <td>8</td>\n",
       "      <td>5</td>\n",
       "      <td>1</td>\n",
       "      <td>1.08</td>\n",
       "      <td>1.0</td>\n",
       "      <td>42.3503</td>\n",
       "      <td>-71.0810</td>\n",
       "      <td>38.00</td>\n",
       "      <td>...</td>\n",
       "      <td>42.32</td>\n",
       "      <td>40.48</td>\n",
       "      <td>0</td>\n",
       "      <td>27.99</td>\n",
       "      <td>0.12</td>\n",
       "      <td>2</td>\n",
       "      <td>0.79</td>\n",
       "      <td>0.0004</td>\n",
       "      <td>42.32</td>\n",
       "      <td>40.48</td>\n",
       "    </tr>\n",
       "    <tr>\n",
       "      <th>14</th>\n",
       "      <td>12</td>\n",
       "      <td>6</td>\n",
       "      <td>11</td>\n",
       "      <td>0</td>\n",
       "      <td>5</td>\n",
       "      <td>1.11</td>\n",
       "      <td>1.0</td>\n",
       "      <td>42.3647</td>\n",
       "      <td>-71.0542</td>\n",
       "      <td>32.85</td>\n",
       "      <td>...</td>\n",
       "      <td>33.83</td>\n",
       "      <td>32.85</td>\n",
       "      <td>4</td>\n",
       "      <td>18.66</td>\n",
       "      <td>0.64</td>\n",
       "      <td>0</td>\n",
       "      <td>0.21</td>\n",
       "      <td>0.0001</td>\n",
       "      <td>33.83</td>\n",
       "      <td>32.85</td>\n",
       "    </tr>\n",
       "  </tbody>\n",
       "</table>\n",
       "<p>5 rows × 25 columns</p>\n",
       "</div>"
      ],
      "text/plain": [
       "    month  source  destination  product_id  name  distance  surge_multiplier  \\\n",
       "0      12       5            7           4     2      0.44               1.0   \n",
       "1      11       5            7           5     1      0.44               1.0   \n",
       "8      12       0            8           4     2      1.08               1.0   \n",
       "10     11       0            8           5     1      1.08               1.0   \n",
       "14     12       6           11           0     5      1.11               1.0   \n",
       "\n",
       "    latitude  longitude  apparentTemperature  ...  temperatureHigh  \\\n",
       "0    42.2148   -71.0330                37.12  ...            43.68   \n",
       "1    42.2148   -71.0330                37.35  ...            47.30   \n",
       "8    42.3503   -71.0810                45.58  ...            57.02   \n",
       "10   42.3503   -71.0810                38.00  ...            42.32   \n",
       "14   42.3647   -71.0542                32.85  ...            33.83   \n",
       "\n",
       "    apparentTemperatureHigh  icon  dewPoint  cloudCover  uvIndex  moonPhase  \\\n",
       "0                     37.95     5     32.70        0.72        0       0.30   \n",
       "1                     43.92     6     41.83        1.00        0       0.64   \n",
       "8                     56.35     3     44.50        1.00        0       0.89   \n",
       "10                    40.48     0     27.99        0.12        2       0.79   \n",
       "14                    32.85     4     18.66        0.64        0       0.21   \n",
       "\n",
       "    precipIntensityMax  temperatureMax  apparentTemperatureMax  \n",
       "0               0.1276           43.68                   38.07  \n",
       "1               0.1300           47.30                   43.92  \n",
       "8               0.0004           57.02                   56.35  \n",
       "10              0.0004           42.32                   40.48  \n",
       "14              0.0001           33.83                   32.85  \n",
       "\n",
       "[5 rows x 25 columns]"
      ]
     },
     "execution_count": 100,
     "metadata": {},
     "output_type": "execute_result"
    }
   ],
   "source": [
    "XX.head()"
   ]
  },
  {
   "cell_type": "markdown",
   "id": "75a5130a-7b8c-4454-ba06-314eca5bed34",
   "metadata": {},
   "source": [
    "### Drop Useless Features\n",
    "\n",
    "***"
   ]
  },
  {
   "cell_type": "code",
   "execution_count": 102,
   "id": "2cac0705-518a-46b5-a09d-150418f32ae4",
   "metadata": {},
   "outputs": [],
   "source": [
    "features_drop = ['latitude', 'longitude', 'apparentTemperature',\n",
    "       'long_summary', 'precipIntensity', 'humidity', 'windSpeed', 'windGust',\n",
    "       'temperatureHigh', 'apparentTemperatureHigh', 'dewPoint','precipIntensityMax',\n",
    "       'temperatureMax', 'apparentTemperatureMax', 'distance', 'cloudCover', 'moonPhase']\n",
    "new_uber = XX.drop(features_drop, axis=1)"
   ]
  },
  {
   "cell_type": "code",
   "execution_count": 103,
   "id": "4751a027-da44-4f24-bf0c-dcd8e481aeb4",
   "metadata": {},
   "outputs": [
    {
     "data": {
      "text/html": [
       "<div>\n",
       "<style scoped>\n",
       "    .dataframe tbody tr th:only-of-type {\n",
       "        vertical-align: middle;\n",
       "    }\n",
       "\n",
       "    .dataframe tbody tr th {\n",
       "        vertical-align: top;\n",
       "    }\n",
       "\n",
       "    .dataframe thead th {\n",
       "        text-align: right;\n",
       "    }\n",
       "</style>\n",
       "<table border=\"1\" class=\"dataframe\">\n",
       "  <thead>\n",
       "    <tr style=\"text-align: right;\">\n",
       "      <th></th>\n",
       "      <th>month</th>\n",
       "      <th>source</th>\n",
       "      <th>destination</th>\n",
       "      <th>product_id</th>\n",
       "      <th>name</th>\n",
       "      <th>surge_multiplier</th>\n",
       "      <th>icon</th>\n",
       "      <th>uvIndex</th>\n",
       "    </tr>\n",
       "  </thead>\n",
       "  <tbody>\n",
       "    <tr>\n",
       "      <th>0</th>\n",
       "      <td>12</td>\n",
       "      <td>5</td>\n",
       "      <td>7</td>\n",
       "      <td>4</td>\n",
       "      <td>2</td>\n",
       "      <td>1.0</td>\n",
       "      <td>5</td>\n",
       "      <td>0</td>\n",
       "    </tr>\n",
       "    <tr>\n",
       "      <th>1</th>\n",
       "      <td>11</td>\n",
       "      <td>5</td>\n",
       "      <td>7</td>\n",
       "      <td>5</td>\n",
       "      <td>1</td>\n",
       "      <td>1.0</td>\n",
       "      <td>6</td>\n",
       "      <td>0</td>\n",
       "    </tr>\n",
       "    <tr>\n",
       "      <th>8</th>\n",
       "      <td>12</td>\n",
       "      <td>0</td>\n",
       "      <td>8</td>\n",
       "      <td>4</td>\n",
       "      <td>2</td>\n",
       "      <td>1.0</td>\n",
       "      <td>3</td>\n",
       "      <td>0</td>\n",
       "    </tr>\n",
       "    <tr>\n",
       "      <th>10</th>\n",
       "      <td>11</td>\n",
       "      <td>0</td>\n",
       "      <td>8</td>\n",
       "      <td>5</td>\n",
       "      <td>1</td>\n",
       "      <td>1.0</td>\n",
       "      <td>0</td>\n",
       "      <td>2</td>\n",
       "    </tr>\n",
       "    <tr>\n",
       "      <th>14</th>\n",
       "      <td>12</td>\n",
       "      <td>6</td>\n",
       "      <td>11</td>\n",
       "      <td>0</td>\n",
       "      <td>5</td>\n",
       "      <td>1.0</td>\n",
       "      <td>4</td>\n",
       "      <td>0</td>\n",
       "    </tr>\n",
       "  </tbody>\n",
       "</table>\n",
       "</div>"
      ],
      "text/plain": [
       "    month  source  destination  product_id  name  surge_multiplier  icon  \\\n",
       "0      12       5            7           4     2               1.0     5   \n",
       "1      11       5            7           5     1               1.0     6   \n",
       "8      12       0            8           4     2               1.0     3   \n",
       "10     11       0            8           5     1               1.0     0   \n",
       "14     12       6           11           0     5               1.0     4   \n",
       "\n",
       "    uvIndex  \n",
       "0         0  \n",
       "1         0  \n",
       "8         0  \n",
       "10        2  \n",
       "14        0  "
      ]
     },
     "execution_count": 103,
     "metadata": {},
     "output_type": "execute_result"
    }
   ],
   "source": [
    "new_uber.head()"
   ]
  },
  {
   "cell_type": "markdown",
   "id": "c8a1a10f-c6d2-4048-b123-c27689cfbe89",
   "metadata": {},
   "source": [
    "### Binning\n",
    "\n",
    "***"
   ]
  },
  {
   "cell_type": "code",
   "execution_count": 105,
   "id": "d7164b05-f797-4b0e-a43e-7116dff145a0",
   "metadata": {},
   "outputs": [],
   "source": [
    "month_mapping = {11: 0, 12: 1}\n",
    "new_uber['month'] = new_uber['month'].map(month_mapping)"
   ]
  },
  {
   "cell_type": "code",
   "execution_count": 106,
   "id": "cb1d7cc3-3805-468f-b770-1a83d7e62066",
   "metadata": {},
   "outputs": [],
   "source": [
    "surge_multiplier_mapping = {1.: 0, 1.25: 1, 1.5: 2, 1.75: 3, 2.:4}\n",
    "new_uber['surge_multiplier'] = new_uber['surge_multiplier'].map(surge_multiplier_mapping)"
   ]
  },
  {
   "cell_type": "markdown",
   "id": "8e048ceb-bf4f-42f4-aeff-6f819c0c46c4",
   "metadata": {},
   "source": [
    "### Final Dataset\n",
    "\n",
    "***"
   ]
  },
  {
   "cell_type": "code",
   "execution_count": 108,
   "id": "86f31e23-697d-4085-94c1-4c33c4aeee97",
   "metadata": {},
   "outputs": [
    {
     "data": {
      "text/html": [
       "<div>\n",
       "<style scoped>\n",
       "    .dataframe tbody tr th:only-of-type {\n",
       "        vertical-align: middle;\n",
       "    }\n",
       "\n",
       "    .dataframe tbody tr th {\n",
       "        vertical-align: top;\n",
       "    }\n",
       "\n",
       "    .dataframe thead th {\n",
       "        text-align: right;\n",
       "    }\n",
       "</style>\n",
       "<table border=\"1\" class=\"dataframe\">\n",
       "  <thead>\n",
       "    <tr style=\"text-align: right;\">\n",
       "      <th></th>\n",
       "      <th>month</th>\n",
       "      <th>source</th>\n",
       "      <th>destination</th>\n",
       "      <th>product_id</th>\n",
       "      <th>name</th>\n",
       "      <th>surge_multiplier</th>\n",
       "      <th>icon</th>\n",
       "      <th>uvIndex</th>\n",
       "    </tr>\n",
       "  </thead>\n",
       "  <tbody>\n",
       "    <tr>\n",
       "      <th>0</th>\n",
       "      <td>1</td>\n",
       "      <td>5</td>\n",
       "      <td>7</td>\n",
       "      <td>4</td>\n",
       "      <td>2</td>\n",
       "      <td>0</td>\n",
       "      <td>5</td>\n",
       "      <td>0</td>\n",
       "    </tr>\n",
       "    <tr>\n",
       "      <th>1</th>\n",
       "      <td>0</td>\n",
       "      <td>5</td>\n",
       "      <td>7</td>\n",
       "      <td>5</td>\n",
       "      <td>1</td>\n",
       "      <td>0</td>\n",
       "      <td>6</td>\n",
       "      <td>0</td>\n",
       "    </tr>\n",
       "    <tr>\n",
       "      <th>8</th>\n",
       "      <td>1</td>\n",
       "      <td>0</td>\n",
       "      <td>8</td>\n",
       "      <td>4</td>\n",
       "      <td>2</td>\n",
       "      <td>0</td>\n",
       "      <td>3</td>\n",
       "      <td>0</td>\n",
       "    </tr>\n",
       "    <tr>\n",
       "      <th>10</th>\n",
       "      <td>0</td>\n",
       "      <td>0</td>\n",
       "      <td>8</td>\n",
       "      <td>5</td>\n",
       "      <td>1</td>\n",
       "      <td>0</td>\n",
       "      <td>0</td>\n",
       "      <td>2</td>\n",
       "    </tr>\n",
       "    <tr>\n",
       "      <th>14</th>\n",
       "      <td>1</td>\n",
       "      <td>6</td>\n",
       "      <td>11</td>\n",
       "      <td>0</td>\n",
       "      <td>5</td>\n",
       "      <td>0</td>\n",
       "      <td>4</td>\n",
       "      <td>0</td>\n",
       "    </tr>\n",
       "  </tbody>\n",
       "</table>\n",
       "</div>"
      ],
      "text/plain": [
       "    month  source  destination  product_id  name  surge_multiplier  icon  \\\n",
       "0       1       5            7           4     2                 0     5   \n",
       "1       0       5            7           5     1                 0     6   \n",
       "8       1       0            8           4     2                 0     3   \n",
       "10      0       0            8           5     1                 0     0   \n",
       "14      1       6           11           0     5                 0     4   \n",
       "\n",
       "    uvIndex  \n",
       "0         0  \n",
       "1         0  \n",
       "8         0  \n",
       "10        2  \n",
       "14        0  "
      ]
     },
     "execution_count": 108,
     "metadata": {},
     "output_type": "execute_result"
    }
   ],
   "source": [
    "new_uber.head()"
   ]
  },
  {
   "cell_type": "code",
   "execution_count": 109,
   "id": "15822359-2e1c-4ea3-84d3-e6b30c9d4bca",
   "metadata": {},
   "outputs": [
    {
     "data": {
      "text/plain": [
       "0      5\n",
       "1     11\n",
       "8      3\n",
       "10    13\n",
       "14     7\n",
       "Name: price, dtype: int32"
      ]
     },
     "execution_count": 109,
     "metadata": {},
     "output_type": "execute_result"
    }
   ],
   "source": [
    "y.head()"
   ]
  },
  {
   "cell_type": "markdown",
   "id": "0f3e1940-8757-454a-a791-82e74f7295a1",
   "metadata": {},
   "source": [
    "## 5. Modeling\n",
    "\n",
    "***"
   ]
  },
  {
   "cell_type": "code",
   "execution_count": 111,
   "id": "f923500f-f021-4a5a-ae9c-1a4f9dbfd374",
   "metadata": {},
   "outputs": [
    {
     "data": {
      "text/plain": [
       "(322844, 8)"
      ]
     },
     "execution_count": 111,
     "metadata": {},
     "output_type": "execute_result"
    }
   ],
   "source": [
    "new_uber.shape"
   ]
  },
  {
   "cell_type": "code",
   "execution_count": 112,
   "id": "66764d12-2ecb-43cf-82b9-295df6125bc5",
   "metadata": {},
   "outputs": [
    {
     "data": {
      "text/plain": [
       "(322844,)"
      ]
     },
     "execution_count": 112,
     "metadata": {},
     "output_type": "execute_result"
    }
   ],
   "source": [
    "y.shape"
   ]
  },
  {
   "cell_type": "code",
   "execution_count": 113,
   "id": "38146812-1477-4009-b6b8-2683e09c43df",
   "metadata": {},
   "outputs": [],
   "source": [
    "# Using Skicit-learn to split data into training and testing sets\n",
    "from sklearn.model_selection import train_test_split\n",
    "# Split the data into training and testing sets\n",
    "xx_train, xx_test, yy_train, yy_test = train_test_split(new_uber, y, test_size = 0.2, random_state = 42)"
   ]
  },
  {
   "cell_type": "code",
   "execution_count": 114,
   "id": "b6b332f5-9121-4b39-9590-3bb614aaa012",
   "metadata": {},
   "outputs": [
    {
     "data": {
      "text/plain": [
       "(258275, 8)"
      ]
     },
     "execution_count": 114,
     "metadata": {},
     "output_type": "execute_result"
    }
   ],
   "source": [
    "xx_train.shape"
   ]
  },
  {
   "cell_type": "code",
   "execution_count": 115,
   "id": "e868e943-b43f-4c2c-956e-4a40d0489914",
   "metadata": {},
   "outputs": [
    {
     "data": {
      "text/plain": [
       "(64569, 8)"
      ]
     },
     "execution_count": 115,
     "metadata": {},
     "output_type": "execute_result"
    }
   ],
   "source": [
    "xx_test.shape"
   ]
  },
  {
   "cell_type": "code",
   "execution_count": 116,
   "id": "9a7306ab-1528-42be-bf14-4557e223ff7d",
   "metadata": {},
   "outputs": [
    {
     "data": {
      "text/plain": [
       "(258275,)"
      ]
     },
     "execution_count": 116,
     "metadata": {},
     "output_type": "execute_result"
    }
   ],
   "source": [
    "yy_train.shape"
   ]
  },
  {
   "cell_type": "code",
   "execution_count": 117,
   "id": "a7edf7a1-7fac-4562-bdd8-740507620a2d",
   "metadata": {},
   "outputs": [
    {
     "data": {
      "text/plain": [
       "(64569,)"
      ]
     },
     "execution_count": 117,
     "metadata": {},
     "output_type": "execute_result"
    }
   ],
   "source": [
    "yy_test.shape"
   ]
  },
  {
   "cell_type": "code",
   "execution_count": 118,
   "id": "fc40049b-a339-468d-8e67-87c83ef4ce81",
   "metadata": {},
   "outputs": [],
   "source": [
    "from sklearn.linear_model import LinearRegression\n",
    "from sklearn.linear_model import LogisticRegression\n",
    "from sklearn.tree import DecisionTreeRegressor\n",
    "from sklearn.ensemble import RandomForestRegressor "
   ]
  },
  {
   "cell_type": "markdown",
   "id": "b948d2e8-d58a-4046-b962-be7fc5074672",
   "metadata": {},
   "source": [
    "#### 5.1 Linear regression\n",
    "\n",
    "***"
   ]
  },
  {
   "cell_type": "code",
   "execution_count": 120,
   "id": "74ed778c-77b1-488e-9209-9563903ee64d",
   "metadata": {},
   "outputs": [
    {
     "data": {
      "text/plain": [
       "0.7475450731641595"
      ]
     },
     "execution_count": 120,
     "metadata": {},
     "output_type": "execute_result"
    }
   ],
   "source": [
    "linear = LinearRegression()\n",
    "linear.fit(xx_train, yy_train)\n",
    "linear.score(xx_test, yy_test)"
   ]
  },
  {
   "cell_type": "markdown",
   "id": "2fb5bc3a-ee36-40ff-8871-7dc9582f925b",
   "metadata": {},
   "source": [
    "#### 5.2 Decision Tree\n",
    "\n",
    "***"
   ]
  },
  {
   "cell_type": "code",
   "execution_count": 122,
   "id": "3ecf1443-ab61-4c11-8db2-b15125ce9bab",
   "metadata": {},
   "outputs": [
    {
     "data": {
      "text/plain": [
       "0.9617917299993272"
      ]
     },
     "execution_count": 122,
     "metadata": {},
     "output_type": "execute_result"
    }
   ],
   "source": [
    "decision = DecisionTreeRegressor(random_state = 0)  \n",
    "decision.fit(xx_train , yy_train) \n",
    "decision.score(xx_test, yy_test)"
   ]
  },
  {
   "cell_type": "markdown",
   "id": "8ed800ba-4a1f-4401-b38e-83c713032ebe",
   "metadata": {},
   "source": [
    "#### 5.3 Random Forest\n",
    "\n",
    "***"
   ]
  },
  {
   "cell_type": "code",
   "execution_count": 124,
   "id": "920a3a9e-0e27-47eb-b3ba-75bf2a7de4d1",
   "metadata": {},
   "outputs": [
    {
     "data": {
      "text/plain": [
       "0.9622694743419838"
      ]
     },
     "execution_count": 124,
     "metadata": {},
     "output_type": "execute_result"
    }
   ],
   "source": [
    "random = RandomForestRegressor(n_estimators = 100, random_state = 0) \n",
    "random.fit(xx_train , yy_train)  \n",
    "random.score(xx_test, yy_test)"
   ]
  },
  {
   "cell_type": "markdown",
   "id": "549c42d3-8e8f-45db-b6b5-b4d761df6787",
   "metadata": {},
   "source": [
    "#### 5.4 Gradient Boosting Regressor\n",
    "\n",
    "***"
   ]
  },
  {
   "cell_type": "code",
   "execution_count": 126,
   "id": "f0277cb3-98af-4ddd-bb85-8559ed010791",
   "metadata": {},
   "outputs": [
    {
     "data": {
      "text/html": [
       "<style>#sk-container-id-1 {\n",
       "  /* Definition of color scheme common for light and dark mode */\n",
       "  --sklearn-color-text: black;\n",
       "  --sklearn-color-line: gray;\n",
       "  /* Definition of color scheme for unfitted estimators */\n",
       "  --sklearn-color-unfitted-level-0: #fff5e6;\n",
       "  --sklearn-color-unfitted-level-1: #f6e4d2;\n",
       "  --sklearn-color-unfitted-level-2: #ffe0b3;\n",
       "  --sklearn-color-unfitted-level-3: chocolate;\n",
       "  /* Definition of color scheme for fitted estimators */\n",
       "  --sklearn-color-fitted-level-0: #f0f8ff;\n",
       "  --sklearn-color-fitted-level-1: #d4ebff;\n",
       "  --sklearn-color-fitted-level-2: #b3dbfd;\n",
       "  --sklearn-color-fitted-level-3: cornflowerblue;\n",
       "\n",
       "  /* Specific color for light theme */\n",
       "  --sklearn-color-text-on-default-background: var(--sg-text-color, var(--theme-code-foreground, var(--jp-content-font-color1, black)));\n",
       "  --sklearn-color-background: var(--sg-background-color, var(--theme-background, var(--jp-layout-color0, white)));\n",
       "  --sklearn-color-border-box: var(--sg-text-color, var(--theme-code-foreground, var(--jp-content-font-color1, black)));\n",
       "  --sklearn-color-icon: #696969;\n",
       "\n",
       "  @media (prefers-color-scheme: dark) {\n",
       "    /* Redefinition of color scheme for dark theme */\n",
       "    --sklearn-color-text-on-default-background: var(--sg-text-color, var(--theme-code-foreground, var(--jp-content-font-color1, white)));\n",
       "    --sklearn-color-background: var(--sg-background-color, var(--theme-background, var(--jp-layout-color0, #111)));\n",
       "    --sklearn-color-border-box: var(--sg-text-color, var(--theme-code-foreground, var(--jp-content-font-color1, white)));\n",
       "    --sklearn-color-icon: #878787;\n",
       "  }\n",
       "}\n",
       "\n",
       "#sk-container-id-1 {\n",
       "  color: var(--sklearn-color-text);\n",
       "}\n",
       "\n",
       "#sk-container-id-1 pre {\n",
       "  padding: 0;\n",
       "}\n",
       "\n",
       "#sk-container-id-1 input.sk-hidden--visually {\n",
       "  border: 0;\n",
       "  clip: rect(1px 1px 1px 1px);\n",
       "  clip: rect(1px, 1px, 1px, 1px);\n",
       "  height: 1px;\n",
       "  margin: -1px;\n",
       "  overflow: hidden;\n",
       "  padding: 0;\n",
       "  position: absolute;\n",
       "  width: 1px;\n",
       "}\n",
       "\n",
       "#sk-container-id-1 div.sk-dashed-wrapped {\n",
       "  border: 1px dashed var(--sklearn-color-line);\n",
       "  margin: 0 0.4em 0.5em 0.4em;\n",
       "  box-sizing: border-box;\n",
       "  padding-bottom: 0.4em;\n",
       "  background-color: var(--sklearn-color-background);\n",
       "}\n",
       "\n",
       "#sk-container-id-1 div.sk-container {\n",
       "  /* jupyter's `normalize.less` sets `[hidden] { display: none; }`\n",
       "     but bootstrap.min.css set `[hidden] { display: none !important; }`\n",
       "     so we also need the `!important` here to be able to override the\n",
       "     default hidden behavior on the sphinx rendered scikit-learn.org.\n",
       "     See: https://github.com/scikit-learn/scikit-learn/issues/21755 */\n",
       "  display: inline-block !important;\n",
       "  position: relative;\n",
       "}\n",
       "\n",
       "#sk-container-id-1 div.sk-text-repr-fallback {\n",
       "  display: none;\n",
       "}\n",
       "\n",
       "div.sk-parallel-item,\n",
       "div.sk-serial,\n",
       "div.sk-item {\n",
       "  /* draw centered vertical line to link estimators */\n",
       "  background-image: linear-gradient(var(--sklearn-color-text-on-default-background), var(--sklearn-color-text-on-default-background));\n",
       "  background-size: 2px 100%;\n",
       "  background-repeat: no-repeat;\n",
       "  background-position: center center;\n",
       "}\n",
       "\n",
       "/* Parallel-specific style estimator block */\n",
       "\n",
       "#sk-container-id-1 div.sk-parallel-item::after {\n",
       "  content: \"\";\n",
       "  width: 100%;\n",
       "  border-bottom: 2px solid var(--sklearn-color-text-on-default-background);\n",
       "  flex-grow: 1;\n",
       "}\n",
       "\n",
       "#sk-container-id-1 div.sk-parallel {\n",
       "  display: flex;\n",
       "  align-items: stretch;\n",
       "  justify-content: center;\n",
       "  background-color: var(--sklearn-color-background);\n",
       "  position: relative;\n",
       "}\n",
       "\n",
       "#sk-container-id-1 div.sk-parallel-item {\n",
       "  display: flex;\n",
       "  flex-direction: column;\n",
       "}\n",
       "\n",
       "#sk-container-id-1 div.sk-parallel-item:first-child::after {\n",
       "  align-self: flex-end;\n",
       "  width: 50%;\n",
       "}\n",
       "\n",
       "#sk-container-id-1 div.sk-parallel-item:last-child::after {\n",
       "  align-self: flex-start;\n",
       "  width: 50%;\n",
       "}\n",
       "\n",
       "#sk-container-id-1 div.sk-parallel-item:only-child::after {\n",
       "  width: 0;\n",
       "}\n",
       "\n",
       "/* Serial-specific style estimator block */\n",
       "\n",
       "#sk-container-id-1 div.sk-serial {\n",
       "  display: flex;\n",
       "  flex-direction: column;\n",
       "  align-items: center;\n",
       "  background-color: var(--sklearn-color-background);\n",
       "  padding-right: 1em;\n",
       "  padding-left: 1em;\n",
       "}\n",
       "\n",
       "\n",
       "/* Toggleable style: style used for estimator/Pipeline/ColumnTransformer box that is\n",
       "clickable and can be expanded/collapsed.\n",
       "- Pipeline and ColumnTransformer use this feature and define the default style\n",
       "- Estimators will overwrite some part of the style using the `sk-estimator` class\n",
       "*/\n",
       "\n",
       "/* Pipeline and ColumnTransformer style (default) */\n",
       "\n",
       "#sk-container-id-1 div.sk-toggleable {\n",
       "  /* Default theme specific background. It is overwritten whether we have a\n",
       "  specific estimator or a Pipeline/ColumnTransformer */\n",
       "  background-color: var(--sklearn-color-background);\n",
       "}\n",
       "\n",
       "/* Toggleable label */\n",
       "#sk-container-id-1 label.sk-toggleable__label {\n",
       "  cursor: pointer;\n",
       "  display: block;\n",
       "  width: 100%;\n",
       "  margin-bottom: 0;\n",
       "  padding: 0.5em;\n",
       "  box-sizing: border-box;\n",
       "  text-align: center;\n",
       "}\n",
       "\n",
       "#sk-container-id-1 label.sk-toggleable__label-arrow:before {\n",
       "  /* Arrow on the left of the label */\n",
       "  content: \"▸\";\n",
       "  float: left;\n",
       "  margin-right: 0.25em;\n",
       "  color: var(--sklearn-color-icon);\n",
       "}\n",
       "\n",
       "#sk-container-id-1 label.sk-toggleable__label-arrow:hover:before {\n",
       "  color: var(--sklearn-color-text);\n",
       "}\n",
       "\n",
       "/* Toggleable content - dropdown */\n",
       "\n",
       "#sk-container-id-1 div.sk-toggleable__content {\n",
       "  max-height: 0;\n",
       "  max-width: 0;\n",
       "  overflow: hidden;\n",
       "  text-align: left;\n",
       "  /* unfitted */\n",
       "  background-color: var(--sklearn-color-unfitted-level-0);\n",
       "}\n",
       "\n",
       "#sk-container-id-1 div.sk-toggleable__content.fitted {\n",
       "  /* fitted */\n",
       "  background-color: var(--sklearn-color-fitted-level-0);\n",
       "}\n",
       "\n",
       "#sk-container-id-1 div.sk-toggleable__content pre {\n",
       "  margin: 0.2em;\n",
       "  border-radius: 0.25em;\n",
       "  color: var(--sklearn-color-text);\n",
       "  /* unfitted */\n",
       "  background-color: var(--sklearn-color-unfitted-level-0);\n",
       "}\n",
       "\n",
       "#sk-container-id-1 div.sk-toggleable__content.fitted pre {\n",
       "  /* unfitted */\n",
       "  background-color: var(--sklearn-color-fitted-level-0);\n",
       "}\n",
       "\n",
       "#sk-container-id-1 input.sk-toggleable__control:checked~div.sk-toggleable__content {\n",
       "  /* Expand drop-down */\n",
       "  max-height: 200px;\n",
       "  max-width: 100%;\n",
       "  overflow: auto;\n",
       "}\n",
       "\n",
       "#sk-container-id-1 input.sk-toggleable__control:checked~label.sk-toggleable__label-arrow:before {\n",
       "  content: \"▾\";\n",
       "}\n",
       "\n",
       "/* Pipeline/ColumnTransformer-specific style */\n",
       "\n",
       "#sk-container-id-1 div.sk-label input.sk-toggleable__control:checked~label.sk-toggleable__label {\n",
       "  color: var(--sklearn-color-text);\n",
       "  background-color: var(--sklearn-color-unfitted-level-2);\n",
       "}\n",
       "\n",
       "#sk-container-id-1 div.sk-label.fitted input.sk-toggleable__control:checked~label.sk-toggleable__label {\n",
       "  background-color: var(--sklearn-color-fitted-level-2);\n",
       "}\n",
       "\n",
       "/* Estimator-specific style */\n",
       "\n",
       "/* Colorize estimator box */\n",
       "#sk-container-id-1 div.sk-estimator input.sk-toggleable__control:checked~label.sk-toggleable__label {\n",
       "  /* unfitted */\n",
       "  background-color: var(--sklearn-color-unfitted-level-2);\n",
       "}\n",
       "\n",
       "#sk-container-id-1 div.sk-estimator.fitted input.sk-toggleable__control:checked~label.sk-toggleable__label {\n",
       "  /* fitted */\n",
       "  background-color: var(--sklearn-color-fitted-level-2);\n",
       "}\n",
       "\n",
       "#sk-container-id-1 div.sk-label label.sk-toggleable__label,\n",
       "#sk-container-id-1 div.sk-label label {\n",
       "  /* The background is the default theme color */\n",
       "  color: var(--sklearn-color-text-on-default-background);\n",
       "}\n",
       "\n",
       "/* On hover, darken the color of the background */\n",
       "#sk-container-id-1 div.sk-label:hover label.sk-toggleable__label {\n",
       "  color: var(--sklearn-color-text);\n",
       "  background-color: var(--sklearn-color-unfitted-level-2);\n",
       "}\n",
       "\n",
       "/* Label box, darken color on hover, fitted */\n",
       "#sk-container-id-1 div.sk-label.fitted:hover label.sk-toggleable__label.fitted {\n",
       "  color: var(--sklearn-color-text);\n",
       "  background-color: var(--sklearn-color-fitted-level-2);\n",
       "}\n",
       "\n",
       "/* Estimator label */\n",
       "\n",
       "#sk-container-id-1 div.sk-label label {\n",
       "  font-family: monospace;\n",
       "  font-weight: bold;\n",
       "  display: inline-block;\n",
       "  line-height: 1.2em;\n",
       "}\n",
       "\n",
       "#sk-container-id-1 div.sk-label-container {\n",
       "  text-align: center;\n",
       "}\n",
       "\n",
       "/* Estimator-specific */\n",
       "#sk-container-id-1 div.sk-estimator {\n",
       "  font-family: monospace;\n",
       "  border: 1px dotted var(--sklearn-color-border-box);\n",
       "  border-radius: 0.25em;\n",
       "  box-sizing: border-box;\n",
       "  margin-bottom: 0.5em;\n",
       "  /* unfitted */\n",
       "  background-color: var(--sklearn-color-unfitted-level-0);\n",
       "}\n",
       "\n",
       "#sk-container-id-1 div.sk-estimator.fitted {\n",
       "  /* fitted */\n",
       "  background-color: var(--sklearn-color-fitted-level-0);\n",
       "}\n",
       "\n",
       "/* on hover */\n",
       "#sk-container-id-1 div.sk-estimator:hover {\n",
       "  /* unfitted */\n",
       "  background-color: var(--sklearn-color-unfitted-level-2);\n",
       "}\n",
       "\n",
       "#sk-container-id-1 div.sk-estimator.fitted:hover {\n",
       "  /* fitted */\n",
       "  background-color: var(--sklearn-color-fitted-level-2);\n",
       "}\n",
       "\n",
       "/* Specification for estimator info (e.g. \"i\" and \"?\") */\n",
       "\n",
       "/* Common style for \"i\" and \"?\" */\n",
       "\n",
       ".sk-estimator-doc-link,\n",
       "a:link.sk-estimator-doc-link,\n",
       "a:visited.sk-estimator-doc-link {\n",
       "  float: right;\n",
       "  font-size: smaller;\n",
       "  line-height: 1em;\n",
       "  font-family: monospace;\n",
       "  background-color: var(--sklearn-color-background);\n",
       "  border-radius: 1em;\n",
       "  height: 1em;\n",
       "  width: 1em;\n",
       "  text-decoration: none !important;\n",
       "  margin-left: 1ex;\n",
       "  /* unfitted */\n",
       "  border: var(--sklearn-color-unfitted-level-1) 1pt solid;\n",
       "  color: var(--sklearn-color-unfitted-level-1);\n",
       "}\n",
       "\n",
       ".sk-estimator-doc-link.fitted,\n",
       "a:link.sk-estimator-doc-link.fitted,\n",
       "a:visited.sk-estimator-doc-link.fitted {\n",
       "  /* fitted */\n",
       "  border: var(--sklearn-color-fitted-level-1) 1pt solid;\n",
       "  color: var(--sklearn-color-fitted-level-1);\n",
       "}\n",
       "\n",
       "/* On hover */\n",
       "div.sk-estimator:hover .sk-estimator-doc-link:hover,\n",
       ".sk-estimator-doc-link:hover,\n",
       "div.sk-label-container:hover .sk-estimator-doc-link:hover,\n",
       ".sk-estimator-doc-link:hover {\n",
       "  /* unfitted */\n",
       "  background-color: var(--sklearn-color-unfitted-level-3);\n",
       "  color: var(--sklearn-color-background);\n",
       "  text-decoration: none;\n",
       "}\n",
       "\n",
       "div.sk-estimator.fitted:hover .sk-estimator-doc-link.fitted:hover,\n",
       ".sk-estimator-doc-link.fitted:hover,\n",
       "div.sk-label-container:hover .sk-estimator-doc-link.fitted:hover,\n",
       ".sk-estimator-doc-link.fitted:hover {\n",
       "  /* fitted */\n",
       "  background-color: var(--sklearn-color-fitted-level-3);\n",
       "  color: var(--sklearn-color-background);\n",
       "  text-decoration: none;\n",
       "}\n",
       "\n",
       "/* Span, style for the box shown on hovering the info icon */\n",
       ".sk-estimator-doc-link span {\n",
       "  display: none;\n",
       "  z-index: 9999;\n",
       "  position: relative;\n",
       "  font-weight: normal;\n",
       "  right: .2ex;\n",
       "  padding: .5ex;\n",
       "  margin: .5ex;\n",
       "  width: min-content;\n",
       "  min-width: 20ex;\n",
       "  max-width: 50ex;\n",
       "  color: var(--sklearn-color-text);\n",
       "  box-shadow: 2pt 2pt 4pt #999;\n",
       "  /* unfitted */\n",
       "  background: var(--sklearn-color-unfitted-level-0);\n",
       "  border: .5pt solid var(--sklearn-color-unfitted-level-3);\n",
       "}\n",
       "\n",
       ".sk-estimator-doc-link.fitted span {\n",
       "  /* fitted */\n",
       "  background: var(--sklearn-color-fitted-level-0);\n",
       "  border: var(--sklearn-color-fitted-level-3);\n",
       "}\n",
       "\n",
       ".sk-estimator-doc-link:hover span {\n",
       "  display: block;\n",
       "}\n",
       "\n",
       "/* \"?\"-specific style due to the `<a>` HTML tag */\n",
       "\n",
       "#sk-container-id-1 a.estimator_doc_link {\n",
       "  float: right;\n",
       "  font-size: 1rem;\n",
       "  line-height: 1em;\n",
       "  font-family: monospace;\n",
       "  background-color: var(--sklearn-color-background);\n",
       "  border-radius: 1rem;\n",
       "  height: 1rem;\n",
       "  width: 1rem;\n",
       "  text-decoration: none;\n",
       "  /* unfitted */\n",
       "  color: var(--sklearn-color-unfitted-level-1);\n",
       "  border: var(--sklearn-color-unfitted-level-1) 1pt solid;\n",
       "}\n",
       "\n",
       "#sk-container-id-1 a.estimator_doc_link.fitted {\n",
       "  /* fitted */\n",
       "  border: var(--sklearn-color-fitted-level-1) 1pt solid;\n",
       "  color: var(--sklearn-color-fitted-level-1);\n",
       "}\n",
       "\n",
       "/* On hover */\n",
       "#sk-container-id-1 a.estimator_doc_link:hover {\n",
       "  /* unfitted */\n",
       "  background-color: var(--sklearn-color-unfitted-level-3);\n",
       "  color: var(--sklearn-color-background);\n",
       "  text-decoration: none;\n",
       "}\n",
       "\n",
       "#sk-container-id-1 a.estimator_doc_link.fitted:hover {\n",
       "  /* fitted */\n",
       "  background-color: var(--sklearn-color-fitted-level-3);\n",
       "}\n",
       "</style><div id=\"sk-container-id-1\" class=\"sk-top-container\"><div class=\"sk-text-repr-fallback\"><pre>GradientBoostingRegressor(max_depth=5, n_estimators=400)</pre><b>In a Jupyter environment, please rerun this cell to show the HTML representation or trust the notebook. <br />On GitHub, the HTML representation is unable to render, please try loading this page with nbviewer.org.</b></div><div class=\"sk-container\" hidden><div class=\"sk-item\"><div class=\"sk-estimator fitted sk-toggleable\"><input class=\"sk-toggleable__control sk-hidden--visually\" id=\"sk-estimator-id-1\" type=\"checkbox\" checked><label for=\"sk-estimator-id-1\" class=\"sk-toggleable__label fitted sk-toggleable__label-arrow fitted\">&nbsp;&nbsp;GradientBoostingRegressor<a class=\"sk-estimator-doc-link fitted\" rel=\"noreferrer\" target=\"_blank\" href=\"https://scikit-learn.org/1.4/modules/generated/sklearn.ensemble.GradientBoostingRegressor.html\">?<span>Documentation for GradientBoostingRegressor</span></a><span class=\"sk-estimator-doc-link fitted\">i<span>Fitted</span></span></label><div class=\"sk-toggleable__content fitted\"><pre>GradientBoostingRegressor(max_depth=5, n_estimators=400)</pre></div> </div></div></div></div>"
      ],
      "text/plain": [
       "GradientBoostingRegressor(max_depth=5, n_estimators=400)"
      ]
     },
     "execution_count": 126,
     "metadata": {},
     "output_type": "execute_result"
    }
   ],
   "source": [
    "from sklearn import ensemble\n",
    "clf = ensemble.GradientBoostingRegressor(n_estimators = 400, max_depth = 5)\n",
    "clf.fit(xx_train, yy_train)"
   ]
  },
  {
   "cell_type": "code",
   "execution_count": 127,
   "id": "62dd9222-d2aa-4dd2-b914-487b992fc0fc",
   "metadata": {},
   "outputs": [
    {
     "data": {
      "text/plain": [
       "0.9631871424040924"
      ]
     },
     "execution_count": 127,
     "metadata": {},
     "output_type": "execute_result"
    }
   ],
   "source": [
    "clf.score(xx_test, yy_test)"
   ]
  },
  {
   "cell_type": "markdown",
   "id": "d24fd830-091d-4956-a50d-e5ddb268f7c7",
   "metadata": {},
   "source": [
    "#### K fold Crossvalidation\n",
    "\n",
    "***"
   ]
  },
  {
   "cell_type": "code",
   "execution_count": 129,
   "id": "f1e0c109-b860-4798-9db7-0343f73a7aa6",
   "metadata": {},
   "outputs": [
    {
     "data": {
      "text/plain": [
       "array([0.75028011, 0.75047377, 0.74819024, 0.75061918, 0.74745602])"
      ]
     },
     "execution_count": 129,
     "metadata": {},
     "output_type": "execute_result"
    }
   ],
   "source": [
    "from sklearn.model_selection import ShuffleSplit\n",
    "from sklearn.model_selection import cross_val_score\n",
    "cv=ShuffleSplit(n_splits=5,test_size=0.2,random_state=0)\n",
    "cross_val_score(LinearRegression(),xx_test,yy_test,cv=cv)"
   ]
  },
  {
   "cell_type": "markdown",
   "id": "71285cc5-78e4-454c-ae26-717b642a9b53",
   "metadata": {},
   "source": [
    "## 6. Testing\n",
    "\n",
    "***"
   ]
  },
  {
   "cell_type": "markdown",
   "id": "81ecbcde-05ec-43c4-ba70-453b969553dc",
   "metadata": {},
   "source": [
    "#### Linear regression\n",
    "\n",
    "***"
   ]
  },
  {
   "cell_type": "code",
   "execution_count": 132,
   "id": "8ada4da5-3e7a-4a0f-84b1-a994de164452",
   "metadata": {},
   "outputs": [
    {
     "data": {
      "text/plain": [
       "array([ 1.31668826e-02, -3.88218032e-02, -8.15543686e-02, -2.78093598e+00,\n",
       "       -4.52948453e+00,  5.84661636e+00,  5.63253668e-03,  1.57160771e-02])"
      ]
     },
     "execution_count": 132,
     "metadata": {},
     "output_type": "execute_result"
    }
   ],
   "source": [
    "linear.coef_"
   ]
  },
  {
   "cell_type": "code",
   "execution_count": 133,
   "id": "7b0657fe-f775-414f-87aa-89d0699730af",
   "metadata": {},
   "outputs": [
    {
     "data": {
      "text/plain": [
       "array([ 8.65732287, 12.90624268, 11.44487949, ..., 28.68756688,\n",
       "       29.18862538, 12.89669938])"
      ]
     },
     "execution_count": 133,
     "metadata": {},
     "output_type": "execute_result"
    }
   ],
   "source": [
    "prediction = linear.predict(xx_test)\n",
    "prediction"
   ]
  },
  {
   "cell_type": "code",
   "execution_count": 134,
   "id": "d31d8aa4-f0ec-4559-9b91-795a3ecc20de",
   "metadata": {},
   "outputs": [],
   "source": [
    "prediction=  prediction.astype(int)"
   ]
  },
  {
   "cell_type": "raw",
   "id": "86ba1813-3996-4efa-870b-c9323730af6c",
   "metadata": {},
   "source": [
    "plt.scatter(yy_test,prediction)\n",
    "plt.xlabel('Y Test')\n",
    "plt.ylabel('Predicted Y')"
   ]
  },
  {
   "cell_type": "code",
   "execution_count": 135,
   "id": "db896957-0833-432e-9bc9-355254d10404",
   "metadata": {},
   "outputs": [
    {
     "name": "stdout",
     "output_type": "stream",
     "text": [
      "MAE :   3.4060772197184406\n",
      "MSE :   20.033437098297945\n",
      "RMAE :   4.475872775034825\n"
     ]
    }
   ],
   "source": [
    "from sklearn import metrics\n",
    "print('MAE :',\" \", metrics.mean_absolute_error(yy_test,prediction))\n",
    "print('MSE :',\" \", metrics.mean_squared_error(yy_test,prediction))\n",
    "print('RMAE :',\" \", np.sqrt(metrics.mean_squared_error(yy_test,prediction)))"
   ]
  },
  {
   "cell_type": "code",
   "execution_count": 136,
   "id": "c64af202-f133-47ba-a0b9-1bcb6b659543",
   "metadata": {},
   "outputs": [
    {
     "data": {
      "text/plain": [
       "<seaborn.axisgrid.FacetGrid at 0x18455e2a810>"
      ]
     },
     "execution_count": 136,
     "metadata": {},
     "output_type": "execute_result"
    },
    {
     "data": {
      "image/png": "[encoded data removed]",
      "text/plain": [
       "<Figure size 500x500 with 1 Axes>"
      ]
     },
     "metadata": {},
     "output_type": "display_data"
    }
   ],
   "source": [
    "sns.displot(yy_test - prediction, bins=50, kde=True)"
   ]
  },
  {
   "cell_type": "markdown",
   "id": "9dee3d4d-db8b-403c-a064-1cfdb3576ba7",
   "metadata": {},
   "source": [
    "#### Price prediction function\n",
    "\n",
    "***"
   ]
  },
  {
   "cell_type": "code",
   "execution_count": 138,
   "id": "a146a681-5105-43c9-8d83-9b377aa30830",
   "metadata": {},
   "outputs": [
    {
     "data": {
      "text/html": [
       "<div>\n",
       "<style scoped>\n",
       "    .dataframe tbody tr th:only-of-type {\n",
       "        vertical-align: middle;\n",
       "    }\n",
       "\n",
       "    .dataframe tbody tr th {\n",
       "        vertical-align: top;\n",
       "    }\n",
       "\n",
       "    .dataframe thead th {\n",
       "        text-align: right;\n",
       "    }\n",
       "</style>\n",
       "<table border=\"1\" class=\"dataframe\">\n",
       "  <thead>\n",
       "    <tr style=\"text-align: right;\">\n",
       "      <th></th>\n",
       "      <th>month</th>\n",
       "      <th>source</th>\n",
       "      <th>destination</th>\n",
       "      <th>product_id</th>\n",
       "      <th>name</th>\n",
       "      <th>surge_multiplier</th>\n",
       "      <th>icon</th>\n",
       "      <th>uvIndex</th>\n",
       "    </tr>\n",
       "  </thead>\n",
       "  <tbody>\n",
       "    <tr>\n",
       "      <th>0</th>\n",
       "      <td>1</td>\n",
       "      <td>5</td>\n",
       "      <td>7</td>\n",
       "      <td>4</td>\n",
       "      <td>2</td>\n",
       "      <td>0</td>\n",
       "      <td>5</td>\n",
       "      <td>0</td>\n",
       "    </tr>\n",
       "    <tr>\n",
       "      <th>1</th>\n",
       "      <td>0</td>\n",
       "      <td>5</td>\n",
       "      <td>7</td>\n",
       "      <td>5</td>\n",
       "      <td>1</td>\n",
       "      <td>0</td>\n",
       "      <td>6</td>\n",
       "      <td>0</td>\n",
       "    </tr>\n",
       "    <tr>\n",
       "      <th>8</th>\n",
       "      <td>1</td>\n",
       "      <td>0</td>\n",
       "      <td>8</td>\n",
       "      <td>4</td>\n",
       "      <td>2</td>\n",
       "      <td>0</td>\n",
       "      <td>3</td>\n",
       "      <td>0</td>\n",
       "    </tr>\n",
       "    <tr>\n",
       "      <th>10</th>\n",
       "      <td>0</td>\n",
       "      <td>0</td>\n",
       "      <td>8</td>\n",
       "      <td>5</td>\n",
       "      <td>1</td>\n",
       "      <td>0</td>\n",
       "      <td>0</td>\n",
       "      <td>2</td>\n",
       "    </tr>\n",
       "    <tr>\n",
       "      <th>14</th>\n",
       "      <td>1</td>\n",
       "      <td>6</td>\n",
       "      <td>11</td>\n",
       "      <td>0</td>\n",
       "      <td>5</td>\n",
       "      <td>0</td>\n",
       "      <td>4</td>\n",
       "      <td>0</td>\n",
       "    </tr>\n",
       "  </tbody>\n",
       "</table>\n",
       "</div>"
      ],
      "text/plain": [
       "    month  source  destination  product_id  name  surge_multiplier  icon  \\\n",
       "0       1       5            7           4     2                 0     5   \n",
       "1       0       5            7           5     1                 0     6   \n",
       "8       1       0            8           4     2                 0     3   \n",
       "10      0       0            8           5     1                 0     0   \n",
       "14      1       6           11           0     5                 0     4   \n",
       "\n",
       "    uvIndex  \n",
       "0         0  \n",
       "1         0  \n",
       "8         0  \n",
       "10        2  \n",
       "14        0  "
      ]
     },
     "execution_count": 138,
     "metadata": {},
     "output_type": "execute_result"
    }
   ],
   "source": [
    "new_uber.head()"
   ]
  },
  {
   "cell_type": "code",
   "execution_count": null,
   "id": "4fbfb41d-85f3-4761-a285-5e98278f2178",
   "metadata": {},
   "outputs": [],
   "source": []
  },
  {
   "cell_type": "code",
   "execution_count": null,
   "id": "bc34f361-08d2-499c-b87f-c12ea609313b",
   "metadata": {},
   "outputs": [],
   "source": []
  },
  {
   "cell_type": "code",
   "execution_count": 139,
   "id": "3ca7abb3-3aba-4993-b552-71b7121f46f1",
   "metadata": {},
   "outputs": [],
   "source": [
    "def predict_price(name,source,surge_multiplier,icon):    \n",
    "    loc_index = np.where(new_uber.columns==name)[0]\n",
    "\n",
    "    x = np.zeros(len(new_uber.columns))\n",
    "    x[0] = source\n",
    "    x[1] = surge_multiplier\n",
    "    x[2] = icon\n",
    "    if len(loc_index) > 0:\n",
    "        x[loc_index[0]] = 1\n",
    "\n",
    "    return random.predict([x])[0]"
   ]
  },
  {
   "cell_type": "code",
   "execution_count": 140,
   "id": "cb137892-3dcb-4703-9365-d2f5cce79c5f",
   "metadata": {},
   "outputs": [],
   "source": [
    "pre= random.predict(xx_test)"
   ]
  },
  {
   "cell_type": "markdown",
   "id": "b0e0b7da-829e-4464-9e12-37ea556b2fcf",
   "metadata": {},
   "source": [
    "####  <span style='background:yellow'>Follow  these instructions before predicting the price:</span> \n",
    "<hr>\n",
    "\n",
    "-  **For cab_name**:  <font color = 'red'>Black SUV --> 0 , Lux --> 1 , Shared --> 2 , Taxi --> 3 , UberPool --> 4 , UberX --> 5</font>\n",
    "\n",
    "\n",
    "- **For Source**:  <font color = 'blue'>Back Bay --> 0 , Beacon Hill --> 1 , Boston University --> 2 , Fenway --> 3 , Financial District --> 4 , Haymarket Square --> 5 , North End --> 6 , North Station --> 7 , Northeastern University --> 8 , South Station --> 9 , Theatre District --> 10 , West End --> 11</font>\n",
    "\n",
    "\n",
    "- **For Surge_multiplier** : <font color = 'red'>Enter Surge Multiplier value from 0 to 4</font>\n",
    "\n",
    "\n",
    "- **for Icon**:  <font color = 'blue'>clear-day  --> 0 , clear-night  --> 1 , cloudy  --> 2 , fog  --> 3 , partly-cloudy-day  --> 4 , partly-cloudy-night  --> 5 , rain  --> 6</font>\n"
   ]
  },
  {
   "cell_type": "markdown",
   "id": "20af215e-87b8-49f5-bdc6-48b47a6818d5",
   "metadata": {},
   "source": [
    "<span style='background:yellow'>**predict_price(cab_name , source , surge_multiplier , icon)**</span>"
   ]
  },
  {
   "cell_type": "code",
   "execution_count": 261,
   "id": "ab21e157-acf2-4d48-9bbe-1ebdc54e7404",
   "metadata": {},
   "outputs": [
    {
     "name": "stderr",
     "output_type": "stream",
     "text": [
      "C:\\Users\\dell\\anaconda3\\Lib\\site-packages\\sklearn\\base.py:493: UserWarning: X does not have valid feature names, but RandomForestRegressor was fitted with feature names\n",
      "  warnings.warn(\n"
     ]
    },
    {
     "data": {
      "text/plain": [
       "30.992190476190476"
      ]
     },
     "execution_count": 261,
     "metadata": {},
     "output_type": "execute_result"
    }
   ],
   "source": [
    "predict_price(3,11,0,6)"
   ]
  },
  {
   "cell_type": "code",
   "execution_count": null,
   "id": "eb527242-1570-4185-8e9b-095bfd340157",
   "metadata": {},
   "outputs": [],
   "source": []
  }
 ],
 "metadata": {
  "kernelspec": {
   "display_name": "Python 3 (ipykernel)",
   "language": "python",
   "name": "python3"
  },
  "language_info": {
   "codemirror_mode": {
    "name": "ipython",
    "version": 3
   },
   "file_extension": ".py",
   "mimetype": "text/x-python",
   "name": "python",
   "nbconvert_exporter": "python",
   "pygments_lexer": "ipython3",
   "version": "3.12.4"
  }
 },
 "nbformat": 4,
 "nbformat_minor": 5
}
